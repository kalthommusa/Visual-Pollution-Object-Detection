{
  "nbformat": 4,
  "nbformat_minor": 0,
  "metadata": {
    "colab": {
      "provenance": []
    },
    "kernelspec": {
      "name": "python3",
      "display_name": "Python 3"
    },
    "language_info": {
      "name": "python"
    }
  },
  "cells": [
    {
      "cell_type": "markdown",
      "source": [
        "#**Mount Google Drive**"
      ],
      "metadata": {
        "id": "lr-v2RJKJWLe"
      }
    },
    {
      "cell_type": "code",
      "execution_count": null,
      "metadata": {
        "colab": {
          "base_uri": "https://localhost:8080/"
        },
        "id": "MZltmkgqGgnu",
        "outputId": "05fd16ca-3d77-4558-8fac-748f7b4b6dec"
      },
      "outputs": [
        {
          "output_type": "stream",
          "name": "stdout",
          "text": [
            "Mounted at /content/drive/\n"
          ]
        }
      ],
      "source": [
        "from google.colab import drive\n",
        "drive.mount('/content/drive/', force_remount=True)"
      ]
    },
    {
      "cell_type": "markdown",
      "source": [
        "# Navigate to the project directory"
      ],
      "metadata": {
        "id": "1NzY_delJlrW"
      }
    },
    {
      "cell_type": "code",
      "source": [
        "%cd /content/drive/MyDrive/visual-pollution-object-detection"
      ],
      "metadata": {
        "colab": {
          "base_uri": "https://localhost:8080/"
        },
        "id": "aU_H_MHeJcUa",
        "outputId": "0eb0f3b3-ce01-47d0-a1d5-9f843c898479"
      },
      "execution_count": null,
      "outputs": [
        {
          "output_type": "stream",
          "name": "stdout",
          "text": [
            "/content/drive/MyDrive/visual-pollution-object-detection\n"
          ]
        }
      ]
    },
    {
      "cell_type": "code",
      "source": [
        "%cd preprocessing-dataset"
      ],
      "metadata": {
        "colab": {
          "base_uri": "https://localhost:8080/"
        },
        "id": "OeGy2y7-J4Ve",
        "outputId": "66acc845-89ef-40db-a6db-065a7874a4a3"
      },
      "execution_count": null,
      "outputs": [
        {
          "output_type": "stream",
          "name": "stdout",
          "text": [
            "/content/drive/MyDrive/visual-pollution-object-detection/preprocessing-dataset\n"
          ]
        }
      ]
    },
    {
      "cell_type": "code",
      "source": [
        "import pandas as pd\n",
        "import os\n",
        "import shutil"
      ],
      "metadata": {
        "id": "yVkWVl3bOr6a"
      },
      "execution_count": null,
      "outputs": []
    },
    {
      "cell_type": "code",
      "source": [
        "ls"
      ],
      "metadata": {
        "colab": {
          "base_uri": "https://localhost:8080/"
        },
        "id": "MPc4MwQkK5WF",
        "outputId": "2fe47a4c-c23e-4b4c-db33-fc19a01b051f"
      },
      "execution_count": null,
      "outputs": [
        {
          "output_type": "stream",
          "name": "stdout",
          "text": [
            " annotations.csv  'Pre-processing The dataset.ipynb'\n"
          ]
        }
      ]
    },
    {
      "cell_type": "markdown",
      "source": [
        "#**Load the original CSV file into a DataFrame**"
      ],
      "metadata": {
        "id": "ARxEZjXeLRQi"
      }
    },
    {
      "cell_type": "code",
      "source": [
        "df = pd.read_csv('annotations.csv')"
      ],
      "metadata": {
        "id": "dAx_I6iaLSOn"
      },
      "execution_count": null,
      "outputs": []
    },
    {
      "cell_type": "code",
      "source": [
        "df"
      ],
      "metadata": {
        "colab": {
          "base_uri": "https://localhost:8080/",
          "height": 424
        },
        "id": "UT3-DTLTLbIy",
        "outputId": "4ba8ac6d-69a7-4383-ad7d-760c6901c825"
      },
      "execution_count": null,
      "outputs": [
        {
          "output_type": "execute_result",
          "data": {
            "text/plain": [
              "       class                            image_path               name    xmax  \\\n",
              "0        3.0  4a48c42c9579ec0399e6c5a3e825e765.jpg            GARBAGE   797.0   \n",
              "1        3.0  4a48c42c9579ec0399e6c5a3e825e765.jpg            GARBAGE   932.0   \n",
              "2        3.0  4a48c42c9579ec0399e6c5a3e825e765.jpg            GARBAGE   736.0   \n",
              "3        7.0  ea906a663da6321bcef78be4b7d1afff.jpg      BAD_BILLBOARD   986.0   \n",
              "4        8.0  1c7d48005a12d1b19261b8e71df7cafe.jpg       SAND_ON_ROAD   667.0   \n",
              "...      ...                                   ...                ...     ...   \n",
              "19945    4.0  081e7bb3832ec5bb25276db161a96274.jpg  CONSTRUCTION_ROAD  1025.0   \n",
              "19946    2.0  1ff38a7af7f13b1201d17c6e1829373a.jpg           POTHOLES   657.0   \n",
              "19947    2.0  1ff38a7af7f13b1201d17c6e1829373a.jpg           POTHOLES   507.0   \n",
              "19948    7.0  ac97490f13140fc1bfe613ec69301b34.jpg      BAD_BILLBOARD   956.0   \n",
              "19949    7.0  ac97490f13140fc1bfe613ec69301b34.jpg      BAD_BILLBOARD   814.0   \n",
              "\n",
              "        xmin   ymax   ymin  \n",
              "0      701.0  262.0  211.0  \n",
              "1      786.0  329.0  238.0  \n",
              "2      657.0  275.0  229.0  \n",
              "3      786.0  136.0    0.0  \n",
              "4      549.0  228.0  179.0  \n",
              "...      ...    ...    ...  \n",
              "19945  600.0  408.0  148.0  \n",
              "19946  418.0  364.0  282.0  \n",
              "19947  338.0  436.0  283.0  \n",
              "19948  713.0  110.0   25.0  \n",
              "19949  674.0  148.0   71.0  \n",
              "\n",
              "[19950 rows x 7 columns]"
            ],
            "text/html": [
              "\n",
              "  <div id=\"df-84c6b2e5-3bd1-4154-9de6-0fb966f9aeef\">\n",
              "    <div class=\"colab-df-container\">\n",
              "      <div>\n",
              "<style scoped>\n",
              "    .dataframe tbody tr th:only-of-type {\n",
              "        vertical-align: middle;\n",
              "    }\n",
              "\n",
              "    .dataframe tbody tr th {\n",
              "        vertical-align: top;\n",
              "    }\n",
              "\n",
              "    .dataframe thead th {\n",
              "        text-align: right;\n",
              "    }\n",
              "</style>\n",
              "<table border=\"1\" class=\"dataframe\">\n",
              "  <thead>\n",
              "    <tr style=\"text-align: right;\">\n",
              "      <th></th>\n",
              "      <th>class</th>\n",
              "      <th>image_path</th>\n",
              "      <th>name</th>\n",
              "      <th>xmax</th>\n",
              "      <th>xmin</th>\n",
              "      <th>ymax</th>\n",
              "      <th>ymin</th>\n",
              "    </tr>\n",
              "  </thead>\n",
              "  <tbody>\n",
              "    <tr>\n",
              "      <th>0</th>\n",
              "      <td>3.0</td>\n",
              "      <td>4a48c42c9579ec0399e6c5a3e825e765.jpg</td>\n",
              "      <td>GARBAGE</td>\n",
              "      <td>797.0</td>\n",
              "      <td>701.0</td>\n",
              "      <td>262.0</td>\n",
              "      <td>211.0</td>\n",
              "    </tr>\n",
              "    <tr>\n",
              "      <th>1</th>\n",
              "      <td>3.0</td>\n",
              "      <td>4a48c42c9579ec0399e6c5a3e825e765.jpg</td>\n",
              "      <td>GARBAGE</td>\n",
              "      <td>932.0</td>\n",
              "      <td>786.0</td>\n",
              "      <td>329.0</td>\n",
              "      <td>238.0</td>\n",
              "    </tr>\n",
              "    <tr>\n",
              "      <th>2</th>\n",
              "      <td>3.0</td>\n",
              "      <td>4a48c42c9579ec0399e6c5a3e825e765.jpg</td>\n",
              "      <td>GARBAGE</td>\n",
              "      <td>736.0</td>\n",
              "      <td>657.0</td>\n",
              "      <td>275.0</td>\n",
              "      <td>229.0</td>\n",
              "    </tr>\n",
              "    <tr>\n",
              "      <th>3</th>\n",
              "      <td>7.0</td>\n",
              "      <td>ea906a663da6321bcef78be4b7d1afff.jpg</td>\n",
              "      <td>BAD_BILLBOARD</td>\n",
              "      <td>986.0</td>\n",
              "      <td>786.0</td>\n",
              "      <td>136.0</td>\n",
              "      <td>0.0</td>\n",
              "    </tr>\n",
              "    <tr>\n",
              "      <th>4</th>\n",
              "      <td>8.0</td>\n",
              "      <td>1c7d48005a12d1b19261b8e71df7cafe.jpg</td>\n",
              "      <td>SAND_ON_ROAD</td>\n",
              "      <td>667.0</td>\n",
              "      <td>549.0</td>\n",
              "      <td>228.0</td>\n",
              "      <td>179.0</td>\n",
              "    </tr>\n",
              "    <tr>\n",
              "      <th>...</th>\n",
              "      <td>...</td>\n",
              "      <td>...</td>\n",
              "      <td>...</td>\n",
              "      <td>...</td>\n",
              "      <td>...</td>\n",
              "      <td>...</td>\n",
              "      <td>...</td>\n",
              "    </tr>\n",
              "    <tr>\n",
              "      <th>19945</th>\n",
              "      <td>4.0</td>\n",
              "      <td>081e7bb3832ec5bb25276db161a96274.jpg</td>\n",
              "      <td>CONSTRUCTION_ROAD</td>\n",
              "      <td>1025.0</td>\n",
              "      <td>600.0</td>\n",
              "      <td>408.0</td>\n",
              "      <td>148.0</td>\n",
              "    </tr>\n",
              "    <tr>\n",
              "      <th>19946</th>\n",
              "      <td>2.0</td>\n",
              "      <td>1ff38a7af7f13b1201d17c6e1829373a.jpg</td>\n",
              "      <td>POTHOLES</td>\n",
              "      <td>657.0</td>\n",
              "      <td>418.0</td>\n",
              "      <td>364.0</td>\n",
              "      <td>282.0</td>\n",
              "    </tr>\n",
              "    <tr>\n",
              "      <th>19947</th>\n",
              "      <td>2.0</td>\n",
              "      <td>1ff38a7af7f13b1201d17c6e1829373a.jpg</td>\n",
              "      <td>POTHOLES</td>\n",
              "      <td>507.0</td>\n",
              "      <td>338.0</td>\n",
              "      <td>436.0</td>\n",
              "      <td>283.0</td>\n",
              "    </tr>\n",
              "    <tr>\n",
              "      <th>19948</th>\n",
              "      <td>7.0</td>\n",
              "      <td>ac97490f13140fc1bfe613ec69301b34.jpg</td>\n",
              "      <td>BAD_BILLBOARD</td>\n",
              "      <td>956.0</td>\n",
              "      <td>713.0</td>\n",
              "      <td>110.0</td>\n",
              "      <td>25.0</td>\n",
              "    </tr>\n",
              "    <tr>\n",
              "      <th>19949</th>\n",
              "      <td>7.0</td>\n",
              "      <td>ac97490f13140fc1bfe613ec69301b34.jpg</td>\n",
              "      <td>BAD_BILLBOARD</td>\n",
              "      <td>814.0</td>\n",
              "      <td>674.0</td>\n",
              "      <td>148.0</td>\n",
              "      <td>71.0</td>\n",
              "    </tr>\n",
              "  </tbody>\n",
              "</table>\n",
              "<p>19950 rows × 7 columns</p>\n",
              "</div>\n",
              "      <button class=\"colab-df-convert\" onclick=\"convertToInteractive('df-84c6b2e5-3bd1-4154-9de6-0fb966f9aeef')\"\n",
              "              title=\"Convert this dataframe to an interactive table.\"\n",
              "              style=\"display:none;\">\n",
              "        \n",
              "  <svg xmlns=\"http://www.w3.org/2000/svg\" height=\"24px\"viewBox=\"0 0 24 24\"\n",
              "       width=\"24px\">\n",
              "    <path d=\"M0 0h24v24H0V0z\" fill=\"none\"/>\n",
              "    <path d=\"M18.56 5.44l.94 2.06.94-2.06 2.06-.94-2.06-.94-.94-2.06-.94 2.06-2.06.94zm-11 1L8.5 8.5l.94-2.06 2.06-.94-2.06-.94L8.5 2.5l-.94 2.06-2.06.94zm10 10l.94 2.06.94-2.06 2.06-.94-2.06-.94-.94-2.06-.94 2.06-2.06.94z\"/><path d=\"M17.41 7.96l-1.37-1.37c-.4-.4-.92-.59-1.43-.59-.52 0-1.04.2-1.43.59L10.3 9.45l-7.72 7.72c-.78.78-.78 2.05 0 2.83L4 21.41c.39.39.9.59 1.41.59.51 0 1.02-.2 1.41-.59l7.78-7.78 2.81-2.81c.8-.78.8-2.07 0-2.86zM5.41 20L4 18.59l7.72-7.72 1.47 1.35L5.41 20z\"/>\n",
              "  </svg>\n",
              "      </button>\n",
              "      \n",
              "  <style>\n",
              "    .colab-df-container {\n",
              "      display:flex;\n",
              "      flex-wrap:wrap;\n",
              "      gap: 12px;\n",
              "    }\n",
              "\n",
              "    .colab-df-convert {\n",
              "      background-color: #E8F0FE;\n",
              "      border: none;\n",
              "      border-radius: 50%;\n",
              "      cursor: pointer;\n",
              "      display: none;\n",
              "      fill: #1967D2;\n",
              "      height: 32px;\n",
              "      padding: 0 0 0 0;\n",
              "      width: 32px;\n",
              "    }\n",
              "\n",
              "    .colab-df-convert:hover {\n",
              "      background-color: #E2EBFA;\n",
              "      box-shadow: 0px 1px 2px rgba(60, 64, 67, 0.3), 0px 1px 3px 1px rgba(60, 64, 67, 0.15);\n",
              "      fill: #174EA6;\n",
              "    }\n",
              "\n",
              "    [theme=dark] .colab-df-convert {\n",
              "      background-color: #3B4455;\n",
              "      fill: #D2E3FC;\n",
              "    }\n",
              "\n",
              "    [theme=dark] .colab-df-convert:hover {\n",
              "      background-color: #434B5C;\n",
              "      box-shadow: 0px 1px 3px 1px rgba(0, 0, 0, 0.15);\n",
              "      filter: drop-shadow(0px 1px 2px rgba(0, 0, 0, 0.3));\n",
              "      fill: #FFFFFF;\n",
              "    }\n",
              "  </style>\n",
              "\n",
              "      <script>\n",
              "        const buttonEl =\n",
              "          document.querySelector('#df-84c6b2e5-3bd1-4154-9de6-0fb966f9aeef button.colab-df-convert');\n",
              "        buttonEl.style.display =\n",
              "          google.colab.kernel.accessAllowed ? 'block' : 'none';\n",
              "\n",
              "        async function convertToInteractive(key) {\n",
              "          const element = document.querySelector('#df-84c6b2e5-3bd1-4154-9de6-0fb966f9aeef');\n",
              "          const dataTable =\n",
              "            await google.colab.kernel.invokeFunction('convertToInteractive',\n",
              "                                                     [key], {});\n",
              "          if (!dataTable) return;\n",
              "\n",
              "          const docLinkHtml = 'Like what you see? Visit the ' +\n",
              "            '<a target=\"_blank\" href=https://colab.research.google.com/notebooks/data_table.ipynb>data table notebook</a>'\n",
              "            + ' to learn more about interactive tables.';\n",
              "          element.innerHTML = '';\n",
              "          dataTable['output_type'] = 'display_data';\n",
              "          await google.colab.output.renderOutput(dataTable, element);\n",
              "          const docLink = document.createElement('div');\n",
              "          docLink.innerHTML = docLinkHtml;\n",
              "          element.appendChild(docLink);\n",
              "        }\n",
              "      </script>\n",
              "    </div>\n",
              "  </div>\n",
              "  "
            ]
          },
          "metadata": {},
          "execution_count": 26
        }
      ]
    },
    {
      "cell_type": "code",
      "source": [
        "df.shape"
      ],
      "metadata": {
        "colab": {
          "base_uri": "https://localhost:8080/"
        },
        "id": "hWOanObWLjAM",
        "outputId": "d3a2968d-a9c9-4e48-a2ae-e06fdade2656"
      },
      "execution_count": null,
      "outputs": [
        {
          "output_type": "execute_result",
          "data": {
            "text/plain": [
              "(19950, 7)"
            ]
          },
          "metadata": {},
          "execution_count": 12
        }
      ]
    },
    {
      "cell_type": "markdown",
      "source": [
        "#**Modify Annotations**"
      ],
      "metadata": {
        "id": "92jX0c3QMcpe"
      }
    },
    {
      "cell_type": "markdown",
      "source": [
        "The bounding box coordinates ​​in the ``xmax``, ``xmin``, ``ymax`` and ``ymin`` columns are incorrect. \n",
        "\n",
        "Thus, I will correct the bbox coordinates ​​by multiplying them by 2"
      ],
      "metadata": {
        "id": "ahNcUrs8NXL3"
      }
    },
    {
      "cell_type": "markdown",
      "source": [
        "#Slicing columns"
      ],
      "metadata": {
        "id": "mBFYIH2cPjJG"
      }
    },
    {
      "cell_type": "code",
      "source": [
        "bbox_annots = df.iloc[:,3:7]\n",
        "bbox_annots"
      ],
      "metadata": {
        "colab": {
          "base_uri": "https://localhost:8080/",
          "height": 424
        },
        "id": "-gd-fUwDLk9r",
        "outputId": "65419634-9179-43d7-f894-8fc145eee1a0"
      },
      "execution_count": null,
      "outputs": [
        {
          "output_type": "execute_result",
          "data": {
            "text/plain": [
              "         xmax   xmin   ymax   ymin\n",
              "0       797.0  701.0  262.0  211.0\n",
              "1       932.0  786.0  329.0  238.0\n",
              "2       736.0  657.0  275.0  229.0\n",
              "3       986.0  786.0  136.0    0.0\n",
              "4       667.0  549.0  228.0  179.0\n",
              "...       ...    ...    ...    ...\n",
              "19945  1025.0  600.0  408.0  148.0\n",
              "19946   657.0  418.0  364.0  282.0\n",
              "19947   507.0  338.0  436.0  283.0\n",
              "19948   956.0  713.0  110.0   25.0\n",
              "19949   814.0  674.0  148.0   71.0\n",
              "\n",
              "[19950 rows x 4 columns]"
            ],
            "text/html": [
              "\n",
              "  <div id=\"df-e45cabbc-6d28-47eb-ba11-07fe83cdad24\">\n",
              "    <div class=\"colab-df-container\">\n",
              "      <div>\n",
              "<style scoped>\n",
              "    .dataframe tbody tr th:only-of-type {\n",
              "        vertical-align: middle;\n",
              "    }\n",
              "\n",
              "    .dataframe tbody tr th {\n",
              "        vertical-align: top;\n",
              "    }\n",
              "\n",
              "    .dataframe thead th {\n",
              "        text-align: right;\n",
              "    }\n",
              "</style>\n",
              "<table border=\"1\" class=\"dataframe\">\n",
              "  <thead>\n",
              "    <tr style=\"text-align: right;\">\n",
              "      <th></th>\n",
              "      <th>xmax</th>\n",
              "      <th>xmin</th>\n",
              "      <th>ymax</th>\n",
              "      <th>ymin</th>\n",
              "    </tr>\n",
              "  </thead>\n",
              "  <tbody>\n",
              "    <tr>\n",
              "      <th>0</th>\n",
              "      <td>797.0</td>\n",
              "      <td>701.0</td>\n",
              "      <td>262.0</td>\n",
              "      <td>211.0</td>\n",
              "    </tr>\n",
              "    <tr>\n",
              "      <th>1</th>\n",
              "      <td>932.0</td>\n",
              "      <td>786.0</td>\n",
              "      <td>329.0</td>\n",
              "      <td>238.0</td>\n",
              "    </tr>\n",
              "    <tr>\n",
              "      <th>2</th>\n",
              "      <td>736.0</td>\n",
              "      <td>657.0</td>\n",
              "      <td>275.0</td>\n",
              "      <td>229.0</td>\n",
              "    </tr>\n",
              "    <tr>\n",
              "      <th>3</th>\n",
              "      <td>986.0</td>\n",
              "      <td>786.0</td>\n",
              "      <td>136.0</td>\n",
              "      <td>0.0</td>\n",
              "    </tr>\n",
              "    <tr>\n",
              "      <th>4</th>\n",
              "      <td>667.0</td>\n",
              "      <td>549.0</td>\n",
              "      <td>228.0</td>\n",
              "      <td>179.0</td>\n",
              "    </tr>\n",
              "    <tr>\n",
              "      <th>...</th>\n",
              "      <td>...</td>\n",
              "      <td>...</td>\n",
              "      <td>...</td>\n",
              "      <td>...</td>\n",
              "    </tr>\n",
              "    <tr>\n",
              "      <th>19945</th>\n",
              "      <td>1025.0</td>\n",
              "      <td>600.0</td>\n",
              "      <td>408.0</td>\n",
              "      <td>148.0</td>\n",
              "    </tr>\n",
              "    <tr>\n",
              "      <th>19946</th>\n",
              "      <td>657.0</td>\n",
              "      <td>418.0</td>\n",
              "      <td>364.0</td>\n",
              "      <td>282.0</td>\n",
              "    </tr>\n",
              "    <tr>\n",
              "      <th>19947</th>\n",
              "      <td>507.0</td>\n",
              "      <td>338.0</td>\n",
              "      <td>436.0</td>\n",
              "      <td>283.0</td>\n",
              "    </tr>\n",
              "    <tr>\n",
              "      <th>19948</th>\n",
              "      <td>956.0</td>\n",
              "      <td>713.0</td>\n",
              "      <td>110.0</td>\n",
              "      <td>25.0</td>\n",
              "    </tr>\n",
              "    <tr>\n",
              "      <th>19949</th>\n",
              "      <td>814.0</td>\n",
              "      <td>674.0</td>\n",
              "      <td>148.0</td>\n",
              "      <td>71.0</td>\n",
              "    </tr>\n",
              "  </tbody>\n",
              "</table>\n",
              "<p>19950 rows × 4 columns</p>\n",
              "</div>\n",
              "      <button class=\"colab-df-convert\" onclick=\"convertToInteractive('df-e45cabbc-6d28-47eb-ba11-07fe83cdad24')\"\n",
              "              title=\"Convert this dataframe to an interactive table.\"\n",
              "              style=\"display:none;\">\n",
              "        \n",
              "  <svg xmlns=\"http://www.w3.org/2000/svg\" height=\"24px\"viewBox=\"0 0 24 24\"\n",
              "       width=\"24px\">\n",
              "    <path d=\"M0 0h24v24H0V0z\" fill=\"none\"/>\n",
              "    <path d=\"M18.56 5.44l.94 2.06.94-2.06 2.06-.94-2.06-.94-.94-2.06-.94 2.06-2.06.94zm-11 1L8.5 8.5l.94-2.06 2.06-.94-2.06-.94L8.5 2.5l-.94 2.06-2.06.94zm10 10l.94 2.06.94-2.06 2.06-.94-2.06-.94-.94-2.06-.94 2.06-2.06.94z\"/><path d=\"M17.41 7.96l-1.37-1.37c-.4-.4-.92-.59-1.43-.59-.52 0-1.04.2-1.43.59L10.3 9.45l-7.72 7.72c-.78.78-.78 2.05 0 2.83L4 21.41c.39.39.9.59 1.41.59.51 0 1.02-.2 1.41-.59l7.78-7.78 2.81-2.81c.8-.78.8-2.07 0-2.86zM5.41 20L4 18.59l7.72-7.72 1.47 1.35L5.41 20z\"/>\n",
              "  </svg>\n",
              "      </button>\n",
              "      \n",
              "  <style>\n",
              "    .colab-df-container {\n",
              "      display:flex;\n",
              "      flex-wrap:wrap;\n",
              "      gap: 12px;\n",
              "    }\n",
              "\n",
              "    .colab-df-convert {\n",
              "      background-color: #E8F0FE;\n",
              "      border: none;\n",
              "      border-radius: 50%;\n",
              "      cursor: pointer;\n",
              "      display: none;\n",
              "      fill: #1967D2;\n",
              "      height: 32px;\n",
              "      padding: 0 0 0 0;\n",
              "      width: 32px;\n",
              "    }\n",
              "\n",
              "    .colab-df-convert:hover {\n",
              "      background-color: #E2EBFA;\n",
              "      box-shadow: 0px 1px 2px rgba(60, 64, 67, 0.3), 0px 1px 3px 1px rgba(60, 64, 67, 0.15);\n",
              "      fill: #174EA6;\n",
              "    }\n",
              "\n",
              "    [theme=dark] .colab-df-convert {\n",
              "      background-color: #3B4455;\n",
              "      fill: #D2E3FC;\n",
              "    }\n",
              "\n",
              "    [theme=dark] .colab-df-convert:hover {\n",
              "      background-color: #434B5C;\n",
              "      box-shadow: 0px 1px 3px 1px rgba(0, 0, 0, 0.15);\n",
              "      filter: drop-shadow(0px 1px 2px rgba(0, 0, 0, 0.3));\n",
              "      fill: #FFFFFF;\n",
              "    }\n",
              "  </style>\n",
              "\n",
              "      <script>\n",
              "        const buttonEl =\n",
              "          document.querySelector('#df-e45cabbc-6d28-47eb-ba11-07fe83cdad24 button.colab-df-convert');\n",
              "        buttonEl.style.display =\n",
              "          google.colab.kernel.accessAllowed ? 'block' : 'none';\n",
              "\n",
              "        async function convertToInteractive(key) {\n",
              "          const element = document.querySelector('#df-e45cabbc-6d28-47eb-ba11-07fe83cdad24');\n",
              "          const dataTable =\n",
              "            await google.colab.kernel.invokeFunction('convertToInteractive',\n",
              "                                                     [key], {});\n",
              "          if (!dataTable) return;\n",
              "\n",
              "          const docLinkHtml = 'Like what you see? Visit the ' +\n",
              "            '<a target=\"_blank\" href=https://colab.research.google.com/notebooks/data_table.ipynb>data table notebook</a>'\n",
              "            + ' to learn more about interactive tables.';\n",
              "          element.innerHTML = '';\n",
              "          dataTable['output_type'] = 'display_data';\n",
              "          await google.colab.output.renderOutput(dataTable, element);\n",
              "          const docLink = document.createElement('div');\n",
              "          docLink.innerHTML = docLinkHtml;\n",
              "          element.appendChild(docLink);\n",
              "        }\n",
              "      </script>\n",
              "    </div>\n",
              "  </div>\n",
              "  "
            ]
          },
          "metadata": {},
          "execution_count": 27
        }
      ]
    },
    {
      "cell_type": "markdown",
      "source": [
        "# Correcte the bounding boxes coordinates by multipling them by 2"
      ],
      "metadata": {
        "id": "UjDRlJvOTViu"
      }
    },
    {
      "cell_type": "code",
      "source": [
        "bbox_annots2 = bbox_annots*2\n",
        "bbox_annots2"
      ],
      "metadata": {
        "colab": {
          "base_uri": "https://localhost:8080/",
          "height": 424
        },
        "id": "bUXVRhD-Owvk",
        "outputId": "81805563-3271-491c-fc7f-49fdd6dad3f9"
      },
      "execution_count": null,
      "outputs": [
        {
          "output_type": "execute_result",
          "data": {
            "text/plain": [
              "         xmax    xmin   ymax   ymin\n",
              "0      1594.0  1402.0  524.0  422.0\n",
              "1      1864.0  1572.0  658.0  476.0\n",
              "2      1472.0  1314.0  550.0  458.0\n",
              "3      1972.0  1572.0  272.0    0.0\n",
              "4      1334.0  1098.0  456.0  358.0\n",
              "...       ...     ...    ...    ...\n",
              "19945  2050.0  1200.0  816.0  296.0\n",
              "19946  1314.0   836.0  728.0  564.0\n",
              "19947  1014.0   676.0  872.0  566.0\n",
              "19948  1912.0  1426.0  220.0   50.0\n",
              "19949  1628.0  1348.0  296.0  142.0\n",
              "\n",
              "[19950 rows x 4 columns]"
            ],
            "text/html": [
              "\n",
              "  <div id=\"df-509385ac-3b06-470b-ad80-309e8808d065\">\n",
              "    <div class=\"colab-df-container\">\n",
              "      <div>\n",
              "<style scoped>\n",
              "    .dataframe tbody tr th:only-of-type {\n",
              "        vertical-align: middle;\n",
              "    }\n",
              "\n",
              "    .dataframe tbody tr th {\n",
              "        vertical-align: top;\n",
              "    }\n",
              "\n",
              "    .dataframe thead th {\n",
              "        text-align: right;\n",
              "    }\n",
              "</style>\n",
              "<table border=\"1\" class=\"dataframe\">\n",
              "  <thead>\n",
              "    <tr style=\"text-align: right;\">\n",
              "      <th></th>\n",
              "      <th>xmax</th>\n",
              "      <th>xmin</th>\n",
              "      <th>ymax</th>\n",
              "      <th>ymin</th>\n",
              "    </tr>\n",
              "  </thead>\n",
              "  <tbody>\n",
              "    <tr>\n",
              "      <th>0</th>\n",
              "      <td>1594.0</td>\n",
              "      <td>1402.0</td>\n",
              "      <td>524.0</td>\n",
              "      <td>422.0</td>\n",
              "    </tr>\n",
              "    <tr>\n",
              "      <th>1</th>\n",
              "      <td>1864.0</td>\n",
              "      <td>1572.0</td>\n",
              "      <td>658.0</td>\n",
              "      <td>476.0</td>\n",
              "    </tr>\n",
              "    <tr>\n",
              "      <th>2</th>\n",
              "      <td>1472.0</td>\n",
              "      <td>1314.0</td>\n",
              "      <td>550.0</td>\n",
              "      <td>458.0</td>\n",
              "    </tr>\n",
              "    <tr>\n",
              "      <th>3</th>\n",
              "      <td>1972.0</td>\n",
              "      <td>1572.0</td>\n",
              "      <td>272.0</td>\n",
              "      <td>0.0</td>\n",
              "    </tr>\n",
              "    <tr>\n",
              "      <th>4</th>\n",
              "      <td>1334.0</td>\n",
              "      <td>1098.0</td>\n",
              "      <td>456.0</td>\n",
              "      <td>358.0</td>\n",
              "    </tr>\n",
              "    <tr>\n",
              "      <th>...</th>\n",
              "      <td>...</td>\n",
              "      <td>...</td>\n",
              "      <td>...</td>\n",
              "      <td>...</td>\n",
              "    </tr>\n",
              "    <tr>\n",
              "      <th>19945</th>\n",
              "      <td>2050.0</td>\n",
              "      <td>1200.0</td>\n",
              "      <td>816.0</td>\n",
              "      <td>296.0</td>\n",
              "    </tr>\n",
              "    <tr>\n",
              "      <th>19946</th>\n",
              "      <td>1314.0</td>\n",
              "      <td>836.0</td>\n",
              "      <td>728.0</td>\n",
              "      <td>564.0</td>\n",
              "    </tr>\n",
              "    <tr>\n",
              "      <th>19947</th>\n",
              "      <td>1014.0</td>\n",
              "      <td>676.0</td>\n",
              "      <td>872.0</td>\n",
              "      <td>566.0</td>\n",
              "    </tr>\n",
              "    <tr>\n",
              "      <th>19948</th>\n",
              "      <td>1912.0</td>\n",
              "      <td>1426.0</td>\n",
              "      <td>220.0</td>\n",
              "      <td>50.0</td>\n",
              "    </tr>\n",
              "    <tr>\n",
              "      <th>19949</th>\n",
              "      <td>1628.0</td>\n",
              "      <td>1348.0</td>\n",
              "      <td>296.0</td>\n",
              "      <td>142.0</td>\n",
              "    </tr>\n",
              "  </tbody>\n",
              "</table>\n",
              "<p>19950 rows × 4 columns</p>\n",
              "</div>\n",
              "      <button class=\"colab-df-convert\" onclick=\"convertToInteractive('df-509385ac-3b06-470b-ad80-309e8808d065')\"\n",
              "              title=\"Convert this dataframe to an interactive table.\"\n",
              "              style=\"display:none;\">\n",
              "        \n",
              "  <svg xmlns=\"http://www.w3.org/2000/svg\" height=\"24px\"viewBox=\"0 0 24 24\"\n",
              "       width=\"24px\">\n",
              "    <path d=\"M0 0h24v24H0V0z\" fill=\"none\"/>\n",
              "    <path d=\"M18.56 5.44l.94 2.06.94-2.06 2.06-.94-2.06-.94-.94-2.06-.94 2.06-2.06.94zm-11 1L8.5 8.5l.94-2.06 2.06-.94-2.06-.94L8.5 2.5l-.94 2.06-2.06.94zm10 10l.94 2.06.94-2.06 2.06-.94-2.06-.94-.94-2.06-.94 2.06-2.06.94z\"/><path d=\"M17.41 7.96l-1.37-1.37c-.4-.4-.92-.59-1.43-.59-.52 0-1.04.2-1.43.59L10.3 9.45l-7.72 7.72c-.78.78-.78 2.05 0 2.83L4 21.41c.39.39.9.59 1.41.59.51 0 1.02-.2 1.41-.59l7.78-7.78 2.81-2.81c.8-.78.8-2.07 0-2.86zM5.41 20L4 18.59l7.72-7.72 1.47 1.35L5.41 20z\"/>\n",
              "  </svg>\n",
              "      </button>\n",
              "      \n",
              "  <style>\n",
              "    .colab-df-container {\n",
              "      display:flex;\n",
              "      flex-wrap:wrap;\n",
              "      gap: 12px;\n",
              "    }\n",
              "\n",
              "    .colab-df-convert {\n",
              "      background-color: #E8F0FE;\n",
              "      border: none;\n",
              "      border-radius: 50%;\n",
              "      cursor: pointer;\n",
              "      display: none;\n",
              "      fill: #1967D2;\n",
              "      height: 32px;\n",
              "      padding: 0 0 0 0;\n",
              "      width: 32px;\n",
              "    }\n",
              "\n",
              "    .colab-df-convert:hover {\n",
              "      background-color: #E2EBFA;\n",
              "      box-shadow: 0px 1px 2px rgba(60, 64, 67, 0.3), 0px 1px 3px 1px rgba(60, 64, 67, 0.15);\n",
              "      fill: #174EA6;\n",
              "    }\n",
              "\n",
              "    [theme=dark] .colab-df-convert {\n",
              "      background-color: #3B4455;\n",
              "      fill: #D2E3FC;\n",
              "    }\n",
              "\n",
              "    [theme=dark] .colab-df-convert:hover {\n",
              "      background-color: #434B5C;\n",
              "      box-shadow: 0px 1px 3px 1px rgba(0, 0, 0, 0.15);\n",
              "      filter: drop-shadow(0px 1px 2px rgba(0, 0, 0, 0.3));\n",
              "      fill: #FFFFFF;\n",
              "    }\n",
              "  </style>\n",
              "\n",
              "      <script>\n",
              "        const buttonEl =\n",
              "          document.querySelector('#df-509385ac-3b06-470b-ad80-309e8808d065 button.colab-df-convert');\n",
              "        buttonEl.style.display =\n",
              "          google.colab.kernel.accessAllowed ? 'block' : 'none';\n",
              "\n",
              "        async function convertToInteractive(key) {\n",
              "          const element = document.querySelector('#df-509385ac-3b06-470b-ad80-309e8808d065');\n",
              "          const dataTable =\n",
              "            await google.colab.kernel.invokeFunction('convertToInteractive',\n",
              "                                                     [key], {});\n",
              "          if (!dataTable) return;\n",
              "\n",
              "          const docLinkHtml = 'Like what you see? Visit the ' +\n",
              "            '<a target=\"_blank\" href=https://colab.research.google.com/notebooks/data_table.ipynb>data table notebook</a>'\n",
              "            + ' to learn more about interactive tables.';\n",
              "          element.innerHTML = '';\n",
              "          dataTable['output_type'] = 'display_data';\n",
              "          await google.colab.output.renderOutput(dataTable, element);\n",
              "          const docLink = document.createElement('div');\n",
              "          docLink.innerHTML = docLinkHtml;\n",
              "          element.appendChild(docLink);\n",
              "        }\n",
              "      </script>\n",
              "    </div>\n",
              "  </div>\n",
              "  "
            ]
          },
          "metadata": {},
          "execution_count": 28
        }
      ]
    },
    {
      "cell_type": "code",
      "source": [
        "df['xmax'] = bbox_annots2['xmax']"
      ],
      "metadata": {
        "id": "FyoIwQX7QbLI"
      },
      "execution_count": null,
      "outputs": []
    },
    {
      "cell_type": "code",
      "source": [
        "df['xmin'] = bbox_annots2['xmin']"
      ],
      "metadata": {
        "id": "iP5eLGH6QmT9"
      },
      "execution_count": null,
      "outputs": []
    },
    {
      "cell_type": "code",
      "source": [
        "df['ymax'] = bbox_annots2['ymax']"
      ],
      "metadata": {
        "id": "GRR_Y0kVQmi6"
      },
      "execution_count": null,
      "outputs": []
    },
    {
      "cell_type": "code",
      "source": [
        "df['ymin'] = bbox_annots2['ymin']"
      ],
      "metadata": {
        "id": "IyCgAr2_Qmwu"
      },
      "execution_count": null,
      "outputs": []
    },
    {
      "cell_type": "markdown",
      "source": [
        "#Check the modifed dataset annotations"
      ],
      "metadata": {
        "id": "URGptSg6Q93G"
      }
    },
    {
      "cell_type": "code",
      "source": [
        "df"
      ],
      "metadata": {
        "colab": {
          "base_uri": "https://localhost:8080/",
          "height": 424
        },
        "id": "6YvXOwcZQm-E",
        "outputId": "c58a3944-1289-4185-b747-1d5bf3eea031"
      },
      "execution_count": null,
      "outputs": [
        {
          "output_type": "execute_result",
          "data": {
            "text/plain": [
              "       class                            image_path               name    xmax  \\\n",
              "0        3.0  4a48c42c9579ec0399e6c5a3e825e765.jpg            GARBAGE  1594.0   \n",
              "1        3.0  4a48c42c9579ec0399e6c5a3e825e765.jpg            GARBAGE  1864.0   \n",
              "2        3.0  4a48c42c9579ec0399e6c5a3e825e765.jpg            GARBAGE  1472.0   \n",
              "3        7.0  ea906a663da6321bcef78be4b7d1afff.jpg      BAD_BILLBOARD  1972.0   \n",
              "4        8.0  1c7d48005a12d1b19261b8e71df7cafe.jpg       SAND_ON_ROAD  1334.0   \n",
              "...      ...                                   ...                ...     ...   \n",
              "19945    4.0  081e7bb3832ec5bb25276db161a96274.jpg  CONSTRUCTION_ROAD  2050.0   \n",
              "19946    2.0  1ff38a7af7f13b1201d17c6e1829373a.jpg           POTHOLES  1314.0   \n",
              "19947    2.0  1ff38a7af7f13b1201d17c6e1829373a.jpg           POTHOLES  1014.0   \n",
              "19948    7.0  ac97490f13140fc1bfe613ec69301b34.jpg      BAD_BILLBOARD  1912.0   \n",
              "19949    7.0  ac97490f13140fc1bfe613ec69301b34.jpg      BAD_BILLBOARD  1628.0   \n",
              "\n",
              "         xmin   ymax   ymin  \n",
              "0      1402.0  524.0  422.0  \n",
              "1      1572.0  658.0  476.0  \n",
              "2      1314.0  550.0  458.0  \n",
              "3      1572.0  272.0    0.0  \n",
              "4      1098.0  456.0  358.0  \n",
              "...       ...    ...    ...  \n",
              "19945  1200.0  816.0  296.0  \n",
              "19946   836.0  728.0  564.0  \n",
              "19947   676.0  872.0  566.0  \n",
              "19948  1426.0  220.0   50.0  \n",
              "19949  1348.0  296.0  142.0  \n",
              "\n",
              "[19950 rows x 7 columns]"
            ],
            "text/html": [
              "\n",
              "  <div id=\"df-622b33ae-f808-4296-8940-06ca8d67d235\">\n",
              "    <div class=\"colab-df-container\">\n",
              "      <div>\n",
              "<style scoped>\n",
              "    .dataframe tbody tr th:only-of-type {\n",
              "        vertical-align: middle;\n",
              "    }\n",
              "\n",
              "    .dataframe tbody tr th {\n",
              "        vertical-align: top;\n",
              "    }\n",
              "\n",
              "    .dataframe thead th {\n",
              "        text-align: right;\n",
              "    }\n",
              "</style>\n",
              "<table border=\"1\" class=\"dataframe\">\n",
              "  <thead>\n",
              "    <tr style=\"text-align: right;\">\n",
              "      <th></th>\n",
              "      <th>class</th>\n",
              "      <th>image_path</th>\n",
              "      <th>name</th>\n",
              "      <th>xmax</th>\n",
              "      <th>xmin</th>\n",
              "      <th>ymax</th>\n",
              "      <th>ymin</th>\n",
              "    </tr>\n",
              "  </thead>\n",
              "  <tbody>\n",
              "    <tr>\n",
              "      <th>0</th>\n",
              "      <td>3.0</td>\n",
              "      <td>4a48c42c9579ec0399e6c5a3e825e765.jpg</td>\n",
              "      <td>GARBAGE</td>\n",
              "      <td>1594.0</td>\n",
              "      <td>1402.0</td>\n",
              "      <td>524.0</td>\n",
              "      <td>422.0</td>\n",
              "    </tr>\n",
              "    <tr>\n",
              "      <th>1</th>\n",
              "      <td>3.0</td>\n",
              "      <td>4a48c42c9579ec0399e6c5a3e825e765.jpg</td>\n",
              "      <td>GARBAGE</td>\n",
              "      <td>1864.0</td>\n",
              "      <td>1572.0</td>\n",
              "      <td>658.0</td>\n",
              "      <td>476.0</td>\n",
              "    </tr>\n",
              "    <tr>\n",
              "      <th>2</th>\n",
              "      <td>3.0</td>\n",
              "      <td>4a48c42c9579ec0399e6c5a3e825e765.jpg</td>\n",
              "      <td>GARBAGE</td>\n",
              "      <td>1472.0</td>\n",
              "      <td>1314.0</td>\n",
              "      <td>550.0</td>\n",
              "      <td>458.0</td>\n",
              "    </tr>\n",
              "    <tr>\n",
              "      <th>3</th>\n",
              "      <td>7.0</td>\n",
              "      <td>ea906a663da6321bcef78be4b7d1afff.jpg</td>\n",
              "      <td>BAD_BILLBOARD</td>\n",
              "      <td>1972.0</td>\n",
              "      <td>1572.0</td>\n",
              "      <td>272.0</td>\n",
              "      <td>0.0</td>\n",
              "    </tr>\n",
              "    <tr>\n",
              "      <th>4</th>\n",
              "      <td>8.0</td>\n",
              "      <td>1c7d48005a12d1b19261b8e71df7cafe.jpg</td>\n",
              "      <td>SAND_ON_ROAD</td>\n",
              "      <td>1334.0</td>\n",
              "      <td>1098.0</td>\n",
              "      <td>456.0</td>\n",
              "      <td>358.0</td>\n",
              "    </tr>\n",
              "    <tr>\n",
              "      <th>...</th>\n",
              "      <td>...</td>\n",
              "      <td>...</td>\n",
              "      <td>...</td>\n",
              "      <td>...</td>\n",
              "      <td>...</td>\n",
              "      <td>...</td>\n",
              "      <td>...</td>\n",
              "    </tr>\n",
              "    <tr>\n",
              "      <th>19945</th>\n",
              "      <td>4.0</td>\n",
              "      <td>081e7bb3832ec5bb25276db161a96274.jpg</td>\n",
              "      <td>CONSTRUCTION_ROAD</td>\n",
              "      <td>2050.0</td>\n",
              "      <td>1200.0</td>\n",
              "      <td>816.0</td>\n",
              "      <td>296.0</td>\n",
              "    </tr>\n",
              "    <tr>\n",
              "      <th>19946</th>\n",
              "      <td>2.0</td>\n",
              "      <td>1ff38a7af7f13b1201d17c6e1829373a.jpg</td>\n",
              "      <td>POTHOLES</td>\n",
              "      <td>1314.0</td>\n",
              "      <td>836.0</td>\n",
              "      <td>728.0</td>\n",
              "      <td>564.0</td>\n",
              "    </tr>\n",
              "    <tr>\n",
              "      <th>19947</th>\n",
              "      <td>2.0</td>\n",
              "      <td>1ff38a7af7f13b1201d17c6e1829373a.jpg</td>\n",
              "      <td>POTHOLES</td>\n",
              "      <td>1014.0</td>\n",
              "      <td>676.0</td>\n",
              "      <td>872.0</td>\n",
              "      <td>566.0</td>\n",
              "    </tr>\n",
              "    <tr>\n",
              "      <th>19948</th>\n",
              "      <td>7.0</td>\n",
              "      <td>ac97490f13140fc1bfe613ec69301b34.jpg</td>\n",
              "      <td>BAD_BILLBOARD</td>\n",
              "      <td>1912.0</td>\n",
              "      <td>1426.0</td>\n",
              "      <td>220.0</td>\n",
              "      <td>50.0</td>\n",
              "    </tr>\n",
              "    <tr>\n",
              "      <th>19949</th>\n",
              "      <td>7.0</td>\n",
              "      <td>ac97490f13140fc1bfe613ec69301b34.jpg</td>\n",
              "      <td>BAD_BILLBOARD</td>\n",
              "      <td>1628.0</td>\n",
              "      <td>1348.0</td>\n",
              "      <td>296.0</td>\n",
              "      <td>142.0</td>\n",
              "    </tr>\n",
              "  </tbody>\n",
              "</table>\n",
              "<p>19950 rows × 7 columns</p>\n",
              "</div>\n",
              "      <button class=\"colab-df-convert\" onclick=\"convertToInteractive('df-622b33ae-f808-4296-8940-06ca8d67d235')\"\n",
              "              title=\"Convert this dataframe to an interactive table.\"\n",
              "              style=\"display:none;\">\n",
              "        \n",
              "  <svg xmlns=\"http://www.w3.org/2000/svg\" height=\"24px\"viewBox=\"0 0 24 24\"\n",
              "       width=\"24px\">\n",
              "    <path d=\"M0 0h24v24H0V0z\" fill=\"none\"/>\n",
              "    <path d=\"M18.56 5.44l.94 2.06.94-2.06 2.06-.94-2.06-.94-.94-2.06-.94 2.06-2.06.94zm-11 1L8.5 8.5l.94-2.06 2.06-.94-2.06-.94L8.5 2.5l-.94 2.06-2.06.94zm10 10l.94 2.06.94-2.06 2.06-.94-2.06-.94-.94-2.06-.94 2.06-2.06.94z\"/><path d=\"M17.41 7.96l-1.37-1.37c-.4-.4-.92-.59-1.43-.59-.52 0-1.04.2-1.43.59L10.3 9.45l-7.72 7.72c-.78.78-.78 2.05 0 2.83L4 21.41c.39.39.9.59 1.41.59.51 0 1.02-.2 1.41-.59l7.78-7.78 2.81-2.81c.8-.78.8-2.07 0-2.86zM5.41 20L4 18.59l7.72-7.72 1.47 1.35L5.41 20z\"/>\n",
              "  </svg>\n",
              "      </button>\n",
              "      \n",
              "  <style>\n",
              "    .colab-df-container {\n",
              "      display:flex;\n",
              "      flex-wrap:wrap;\n",
              "      gap: 12px;\n",
              "    }\n",
              "\n",
              "    .colab-df-convert {\n",
              "      background-color: #E8F0FE;\n",
              "      border: none;\n",
              "      border-radius: 50%;\n",
              "      cursor: pointer;\n",
              "      display: none;\n",
              "      fill: #1967D2;\n",
              "      height: 32px;\n",
              "      padding: 0 0 0 0;\n",
              "      width: 32px;\n",
              "    }\n",
              "\n",
              "    .colab-df-convert:hover {\n",
              "      background-color: #E2EBFA;\n",
              "      box-shadow: 0px 1px 2px rgba(60, 64, 67, 0.3), 0px 1px 3px 1px rgba(60, 64, 67, 0.15);\n",
              "      fill: #174EA6;\n",
              "    }\n",
              "\n",
              "    [theme=dark] .colab-df-convert {\n",
              "      background-color: #3B4455;\n",
              "      fill: #D2E3FC;\n",
              "    }\n",
              "\n",
              "    [theme=dark] .colab-df-convert:hover {\n",
              "      background-color: #434B5C;\n",
              "      box-shadow: 0px 1px 3px 1px rgba(0, 0, 0, 0.15);\n",
              "      filter: drop-shadow(0px 1px 2px rgba(0, 0, 0, 0.3));\n",
              "      fill: #FFFFFF;\n",
              "    }\n",
              "  </style>\n",
              "\n",
              "      <script>\n",
              "        const buttonEl =\n",
              "          document.querySelector('#df-622b33ae-f808-4296-8940-06ca8d67d235 button.colab-df-convert');\n",
              "        buttonEl.style.display =\n",
              "          google.colab.kernel.accessAllowed ? 'block' : 'none';\n",
              "\n",
              "        async function convertToInteractive(key) {\n",
              "          const element = document.querySelector('#df-622b33ae-f808-4296-8940-06ca8d67d235');\n",
              "          const dataTable =\n",
              "            await google.colab.kernel.invokeFunction('convertToInteractive',\n",
              "                                                     [key], {});\n",
              "          if (!dataTable) return;\n",
              "\n",
              "          const docLinkHtml = 'Like what you see? Visit the ' +\n",
              "            '<a target=\"_blank\" href=https://colab.research.google.com/notebooks/data_table.ipynb>data table notebook</a>'\n",
              "            + ' to learn more about interactive tables.';\n",
              "          element.innerHTML = '';\n",
              "          dataTable['output_type'] = 'display_data';\n",
              "          await google.colab.output.renderOutput(dataTable, element);\n",
              "          const docLink = document.createElement('div');\n",
              "          docLink.innerHTML = docLinkHtml;\n",
              "          element.appendChild(docLink);\n",
              "        }\n",
              "      </script>\n",
              "    </div>\n",
              "  </div>\n",
              "  "
            ]
          },
          "metadata": {},
          "execution_count": 33
        }
      ]
    },
    {
      "cell_type": "code",
      "source": [
        "df.shape"
      ],
      "metadata": {
        "colab": {
          "base_uri": "https://localhost:8080/"
        },
        "id": "kElRla0kRIZx",
        "outputId": "ab399716-7d7b-4f46-9189-8bceccb915b9"
      },
      "execution_count": null,
      "outputs": [
        {
          "output_type": "execute_result",
          "data": {
            "text/plain": [
              "(19950, 7)"
            ]
          },
          "metadata": {},
          "execution_count": 34
        }
      ]
    },
    {
      "cell_type": "markdown",
      "source": [
        "#The annotations.csv file contains only one row for the visual pollution of type BAD STREETLIGHT, so I decided to delete this row's information, because it will not be of any use or importance in the model training process."
      ],
      "metadata": {
        "id": "1lAEzdtecDCn"
      }
    },
    {
      "cell_type": "code",
      "execution_count": null,
      "metadata": {
        "colab": {
          "base_uri": "https://localhost:8080/",
          "height": 81
        },
        "outputId": "a8984b53-1184-467e-a92e-d40ea22e9629",
        "id": "_XdOavwvs7-W"
      },
      "outputs": [
        {
          "data": {
            "text/html": [
              "\n",
              "  <div id=\"df-2b6d6a9d-3d65-47b4-a9ed-ef895ade20b5\">\n",
              "    <div class=\"colab-df-container\">\n",
              "      <div>\n",
              "<style scoped>\n",
              "    .dataframe tbody tr th:only-of-type {\n",
              "        vertical-align: middle;\n",
              "    }\n",
              "\n",
              "    .dataframe tbody tr th {\n",
              "        vertical-align: top;\n",
              "    }\n",
              "\n",
              "    .dataframe thead th {\n",
              "        text-align: right;\n",
              "    }\n",
              "</style>\n",
              "<table border=\"1\" class=\"dataframe\">\n",
              "  <thead>\n",
              "    <tr style=\"text-align: right;\">\n",
              "      <th></th>\n",
              "      <th>class</th>\n",
              "      <th>image_path</th>\n",
              "      <th>name</th>\n",
              "      <th>xmax</th>\n",
              "      <th>xmin</th>\n",
              "      <th>ymax</th>\n",
              "      <th>ymin</th>\n",
              "    </tr>\n",
              "  </thead>\n",
              "  <tbody>\n",
              "    <tr>\n",
              "      <th>19353</th>\n",
              "      <td>6.0</td>\n",
              "      <td>53d3797457a0d2e3afe146e2f797e77e.jpg</td>\n",
              "      <td>BAD_STREETLIGHT</td>\n",
              "      <td>1970.0</td>\n",
              "      <td>718.0</td>\n",
              "      <td>322.0</td>\n",
              "      <td>-94.0</td>\n",
              "    </tr>\n",
              "  </tbody>\n",
              "</table>\n",
              "</div>\n",
              "      <button class=\"colab-df-convert\" onclick=\"convertToInteractive('df-2b6d6a9d-3d65-47b4-a9ed-ef895ade20b5')\"\n",
              "              title=\"Convert this dataframe to an interactive table.\"\n",
              "              style=\"display:none;\">\n",
              "        \n",
              "  <svg xmlns=\"http://www.w3.org/2000/svg\" height=\"24px\"viewBox=\"0 0 24 24\"\n",
              "       width=\"24px\">\n",
              "    <path d=\"M0 0h24v24H0V0z\" fill=\"none\"/>\n",
              "    <path d=\"M18.56 5.44l.94 2.06.94-2.06 2.06-.94-2.06-.94-.94-2.06-.94 2.06-2.06.94zm-11 1L8.5 8.5l.94-2.06 2.06-.94-2.06-.94L8.5 2.5l-.94 2.06-2.06.94zm10 10l.94 2.06.94-2.06 2.06-.94-2.06-.94-.94-2.06-.94 2.06-2.06.94z\"/><path d=\"M17.41 7.96l-1.37-1.37c-.4-.4-.92-.59-1.43-.59-.52 0-1.04.2-1.43.59L10.3 9.45l-7.72 7.72c-.78.78-.78 2.05 0 2.83L4 21.41c.39.39.9.59 1.41.59.51 0 1.02-.2 1.41-.59l7.78-7.78 2.81-2.81c.8-.78.8-2.07 0-2.86zM5.41 20L4 18.59l7.72-7.72 1.47 1.35L5.41 20z\"/>\n",
              "  </svg>\n",
              "      </button>\n",
              "      \n",
              "  <style>\n",
              "    .colab-df-container {\n",
              "      display:flex;\n",
              "      flex-wrap:wrap;\n",
              "      gap: 12px;\n",
              "    }\n",
              "\n",
              "    .colab-df-convert {\n",
              "      background-color: #E8F0FE;\n",
              "      border: none;\n",
              "      border-radius: 50%;\n",
              "      cursor: pointer;\n",
              "      display: none;\n",
              "      fill: #1967D2;\n",
              "      height: 32px;\n",
              "      padding: 0 0 0 0;\n",
              "      width: 32px;\n",
              "    }\n",
              "\n",
              "    .colab-df-convert:hover {\n",
              "      background-color: #E2EBFA;\n",
              "      box-shadow: 0px 1px 2px rgba(60, 64, 67, 0.3), 0px 1px 3px 1px rgba(60, 64, 67, 0.15);\n",
              "      fill: #174EA6;\n",
              "    }\n",
              "\n",
              "    [theme=dark] .colab-df-convert {\n",
              "      background-color: #3B4455;\n",
              "      fill: #D2E3FC;\n",
              "    }\n",
              "\n",
              "    [theme=dark] .colab-df-convert:hover {\n",
              "      background-color: #434B5C;\n",
              "      box-shadow: 0px 1px 3px 1px rgba(0, 0, 0, 0.15);\n",
              "      filter: drop-shadow(0px 1px 2px rgba(0, 0, 0, 0.3));\n",
              "      fill: #FFFFFF;\n",
              "    }\n",
              "  </style>\n",
              "\n",
              "      <script>\n",
              "        const buttonEl =\n",
              "          document.querySelector('#df-2b6d6a9d-3d65-47b4-a9ed-ef895ade20b5 button.colab-df-convert');\n",
              "        buttonEl.style.display =\n",
              "          google.colab.kernel.accessAllowed ? 'block' : 'none';\n",
              "\n",
              "        async function convertToInteractive(key) {\n",
              "          const element = document.querySelector('#df-2b6d6a9d-3d65-47b4-a9ed-ef895ade20b5');\n",
              "          const dataTable =\n",
              "            await google.colab.kernel.invokeFunction('convertToInteractive',\n",
              "                                                     [key], {});\n",
              "          if (!dataTable) return;\n",
              "\n",
              "          const docLinkHtml = 'Like what you see? Visit the ' +\n",
              "            '<a target=\"_blank\" href=https://colab.research.google.com/notebooks/data_table.ipynb>data table notebook</a>'\n",
              "            + ' to learn more about interactive tables.';\n",
              "          element.innerHTML = '';\n",
              "          dataTable['output_type'] = 'display_data';\n",
              "          await google.colab.output.renderOutput(dataTable, element);\n",
              "          const docLink = document.createElement('div');\n",
              "          docLink.innerHTML = docLinkHtml;\n",
              "          element.appendChild(docLink);\n",
              "        }\n",
              "      </script>\n",
              "    </div>\n",
              "  </div>\n",
              "  "
            ],
            "text/plain": [
              "       class                            image_path             name    xmax  \\\n",
              "19353    6.0  53d3797457a0d2e3afe146e2f797e77e.jpg  BAD_STREETLIGHT  1970.0   \n",
              "\n",
              "        xmin   ymax  ymin  \n",
              "19353  718.0  322.0 -94.0  "
            ]
          },
          "execution_count": 80,
          "metadata": {},
          "output_type": "execute_result"
        }
      ],
      "source": [
        "BAD_STREETLIGHT=df[df['name']=='BAD_STREETLIGHT']\n",
        "\n",
        "BAD_STREETLIGHT"
      ]
    },
    {
      "cell_type": "code",
      "execution_count": null,
      "metadata": {
        "colab": {
          "base_uri": "https://localhost:8080/"
        },
        "id": "dF3RC1-qIIlW",
        "outputId": "96735e0d-d3dd-4b74-e64c-556272a1b9cc"
      },
      "outputs": [
        {
          "name": "stdout",
          "output_type": "stream",
          "text": [
            "1\n"
          ]
        }
      ],
      "source": [
        "print(len(BAD_STREETLIGHT))"
      ]
    },
    {
      "cell_type": "code",
      "source": [
        "df.drop(df[df['name']=='BAD_STREETLIGHT'].index, inplace=True)"
      ],
      "metadata": {
        "id": "jPdDy1EKcDis"
      },
      "execution_count": null,
      "outputs": []
    },
    {
      "cell_type": "code",
      "source": [
        "df"
      ],
      "metadata": {
        "colab": {
          "base_uri": "https://localhost:8080/",
          "height": 424
        },
        "id": "oWM5wIdKboEw",
        "outputId": "0eaf2bc7-4793-4ba2-df95-158b5e7d6c17"
      },
      "execution_count": null,
      "outputs": [
        {
          "output_type": "execute_result",
          "data": {
            "text/plain": [
              "       class                            image_path               name    xmax  \\\n",
              "0        3.0  4a48c42c9579ec0399e6c5a3e825e765.jpg            GARBAGE  1594.0   \n",
              "1        3.0  4a48c42c9579ec0399e6c5a3e825e765.jpg            GARBAGE  1864.0   \n",
              "2        3.0  4a48c42c9579ec0399e6c5a3e825e765.jpg            GARBAGE  1472.0   \n",
              "3        7.0  ea906a663da6321bcef78be4b7d1afff.jpg      BAD_BILLBOARD  1972.0   \n",
              "4        8.0  1c7d48005a12d1b19261b8e71df7cafe.jpg       SAND_ON_ROAD  1334.0   \n",
              "...      ...                                   ...                ...     ...   \n",
              "19945    4.0  081e7bb3832ec5bb25276db161a96274.jpg  CONSTRUCTION_ROAD  2050.0   \n",
              "19946    2.0  1ff38a7af7f13b1201d17c6e1829373a.jpg           POTHOLES  1314.0   \n",
              "19947    2.0  1ff38a7af7f13b1201d17c6e1829373a.jpg           POTHOLES  1014.0   \n",
              "19948    7.0  ac97490f13140fc1bfe613ec69301b34.jpg      BAD_BILLBOARD  1912.0   \n",
              "19949    7.0  ac97490f13140fc1bfe613ec69301b34.jpg      BAD_BILLBOARD  1628.0   \n",
              "\n",
              "         xmin   ymax   ymin  \n",
              "0      1402.0  524.0  422.0  \n",
              "1      1572.0  658.0  476.0  \n",
              "2      1314.0  550.0  458.0  \n",
              "3      1572.0  272.0    0.0  \n",
              "4      1098.0  456.0  358.0  \n",
              "...       ...    ...    ...  \n",
              "19945  1200.0  816.0  296.0  \n",
              "19946   836.0  728.0  564.0  \n",
              "19947   676.0  872.0  566.0  \n",
              "19948  1426.0  220.0   50.0  \n",
              "19949  1348.0  296.0  142.0  \n",
              "\n",
              "[19949 rows x 7 columns]"
            ],
            "text/html": [
              "\n",
              "  <div id=\"df-4f0ff8f0-50ba-4905-86b5-674898f5018a\">\n",
              "    <div class=\"colab-df-container\">\n",
              "      <div>\n",
              "<style scoped>\n",
              "    .dataframe tbody tr th:only-of-type {\n",
              "        vertical-align: middle;\n",
              "    }\n",
              "\n",
              "    .dataframe tbody tr th {\n",
              "        vertical-align: top;\n",
              "    }\n",
              "\n",
              "    .dataframe thead th {\n",
              "        text-align: right;\n",
              "    }\n",
              "</style>\n",
              "<table border=\"1\" class=\"dataframe\">\n",
              "  <thead>\n",
              "    <tr style=\"text-align: right;\">\n",
              "      <th></th>\n",
              "      <th>class</th>\n",
              "      <th>image_path</th>\n",
              "      <th>name</th>\n",
              "      <th>xmax</th>\n",
              "      <th>xmin</th>\n",
              "      <th>ymax</th>\n",
              "      <th>ymin</th>\n",
              "    </tr>\n",
              "  </thead>\n",
              "  <tbody>\n",
              "    <tr>\n",
              "      <th>0</th>\n",
              "      <td>3.0</td>\n",
              "      <td>4a48c42c9579ec0399e6c5a3e825e765.jpg</td>\n",
              "      <td>GARBAGE</td>\n",
              "      <td>1594.0</td>\n",
              "      <td>1402.0</td>\n",
              "      <td>524.0</td>\n",
              "      <td>422.0</td>\n",
              "    </tr>\n",
              "    <tr>\n",
              "      <th>1</th>\n",
              "      <td>3.0</td>\n",
              "      <td>4a48c42c9579ec0399e6c5a3e825e765.jpg</td>\n",
              "      <td>GARBAGE</td>\n",
              "      <td>1864.0</td>\n",
              "      <td>1572.0</td>\n",
              "      <td>658.0</td>\n",
              "      <td>476.0</td>\n",
              "    </tr>\n",
              "    <tr>\n",
              "      <th>2</th>\n",
              "      <td>3.0</td>\n",
              "      <td>4a48c42c9579ec0399e6c5a3e825e765.jpg</td>\n",
              "      <td>GARBAGE</td>\n",
              "      <td>1472.0</td>\n",
              "      <td>1314.0</td>\n",
              "      <td>550.0</td>\n",
              "      <td>458.0</td>\n",
              "    </tr>\n",
              "    <tr>\n",
              "      <th>3</th>\n",
              "      <td>7.0</td>\n",
              "      <td>ea906a663da6321bcef78be4b7d1afff.jpg</td>\n",
              "      <td>BAD_BILLBOARD</td>\n",
              "      <td>1972.0</td>\n",
              "      <td>1572.0</td>\n",
              "      <td>272.0</td>\n",
              "      <td>0.0</td>\n",
              "    </tr>\n",
              "    <tr>\n",
              "      <th>4</th>\n",
              "      <td>8.0</td>\n",
              "      <td>1c7d48005a12d1b19261b8e71df7cafe.jpg</td>\n",
              "      <td>SAND_ON_ROAD</td>\n",
              "      <td>1334.0</td>\n",
              "      <td>1098.0</td>\n",
              "      <td>456.0</td>\n",
              "      <td>358.0</td>\n",
              "    </tr>\n",
              "    <tr>\n",
              "      <th>...</th>\n",
              "      <td>...</td>\n",
              "      <td>...</td>\n",
              "      <td>...</td>\n",
              "      <td>...</td>\n",
              "      <td>...</td>\n",
              "      <td>...</td>\n",
              "      <td>...</td>\n",
              "    </tr>\n",
              "    <tr>\n",
              "      <th>19945</th>\n",
              "      <td>4.0</td>\n",
              "      <td>081e7bb3832ec5bb25276db161a96274.jpg</td>\n",
              "      <td>CONSTRUCTION_ROAD</td>\n",
              "      <td>2050.0</td>\n",
              "      <td>1200.0</td>\n",
              "      <td>816.0</td>\n",
              "      <td>296.0</td>\n",
              "    </tr>\n",
              "    <tr>\n",
              "      <th>19946</th>\n",
              "      <td>2.0</td>\n",
              "      <td>1ff38a7af7f13b1201d17c6e1829373a.jpg</td>\n",
              "      <td>POTHOLES</td>\n",
              "      <td>1314.0</td>\n",
              "      <td>836.0</td>\n",
              "      <td>728.0</td>\n",
              "      <td>564.0</td>\n",
              "    </tr>\n",
              "    <tr>\n",
              "      <th>19947</th>\n",
              "      <td>2.0</td>\n",
              "      <td>1ff38a7af7f13b1201d17c6e1829373a.jpg</td>\n",
              "      <td>POTHOLES</td>\n",
              "      <td>1014.0</td>\n",
              "      <td>676.0</td>\n",
              "      <td>872.0</td>\n",
              "      <td>566.0</td>\n",
              "    </tr>\n",
              "    <tr>\n",
              "      <th>19948</th>\n",
              "      <td>7.0</td>\n",
              "      <td>ac97490f13140fc1bfe613ec69301b34.jpg</td>\n",
              "      <td>BAD_BILLBOARD</td>\n",
              "      <td>1912.0</td>\n",
              "      <td>1426.0</td>\n",
              "      <td>220.0</td>\n",
              "      <td>50.0</td>\n",
              "    </tr>\n",
              "    <tr>\n",
              "      <th>19949</th>\n",
              "      <td>7.0</td>\n",
              "      <td>ac97490f13140fc1bfe613ec69301b34.jpg</td>\n",
              "      <td>BAD_BILLBOARD</td>\n",
              "      <td>1628.0</td>\n",
              "      <td>1348.0</td>\n",
              "      <td>296.0</td>\n",
              "      <td>142.0</td>\n",
              "    </tr>\n",
              "  </tbody>\n",
              "</table>\n",
              "<p>19949 rows × 7 columns</p>\n",
              "</div>\n",
              "      <button class=\"colab-df-convert\" onclick=\"convertToInteractive('df-4f0ff8f0-50ba-4905-86b5-674898f5018a')\"\n",
              "              title=\"Convert this dataframe to an interactive table.\"\n",
              "              style=\"display:none;\">\n",
              "        \n",
              "  <svg xmlns=\"http://www.w3.org/2000/svg\" height=\"24px\"viewBox=\"0 0 24 24\"\n",
              "       width=\"24px\">\n",
              "    <path d=\"M0 0h24v24H0V0z\" fill=\"none\"/>\n",
              "    <path d=\"M18.56 5.44l.94 2.06.94-2.06 2.06-.94-2.06-.94-.94-2.06-.94 2.06-2.06.94zm-11 1L8.5 8.5l.94-2.06 2.06-.94-2.06-.94L8.5 2.5l-.94 2.06-2.06.94zm10 10l.94 2.06.94-2.06 2.06-.94-2.06-.94-.94-2.06-.94 2.06-2.06.94z\"/><path d=\"M17.41 7.96l-1.37-1.37c-.4-.4-.92-.59-1.43-.59-.52 0-1.04.2-1.43.59L10.3 9.45l-7.72 7.72c-.78.78-.78 2.05 0 2.83L4 21.41c.39.39.9.59 1.41.59.51 0 1.02-.2 1.41-.59l7.78-7.78 2.81-2.81c.8-.78.8-2.07 0-2.86zM5.41 20L4 18.59l7.72-7.72 1.47 1.35L5.41 20z\"/>\n",
              "  </svg>\n",
              "      </button>\n",
              "      \n",
              "  <style>\n",
              "    .colab-df-container {\n",
              "      display:flex;\n",
              "      flex-wrap:wrap;\n",
              "      gap: 12px;\n",
              "    }\n",
              "\n",
              "    .colab-df-convert {\n",
              "      background-color: #E8F0FE;\n",
              "      border: none;\n",
              "      border-radius: 50%;\n",
              "      cursor: pointer;\n",
              "      display: none;\n",
              "      fill: #1967D2;\n",
              "      height: 32px;\n",
              "      padding: 0 0 0 0;\n",
              "      width: 32px;\n",
              "    }\n",
              "\n",
              "    .colab-df-convert:hover {\n",
              "      background-color: #E2EBFA;\n",
              "      box-shadow: 0px 1px 2px rgba(60, 64, 67, 0.3), 0px 1px 3px 1px rgba(60, 64, 67, 0.15);\n",
              "      fill: #174EA6;\n",
              "    }\n",
              "\n",
              "    [theme=dark] .colab-df-convert {\n",
              "      background-color: #3B4455;\n",
              "      fill: #D2E3FC;\n",
              "    }\n",
              "\n",
              "    [theme=dark] .colab-df-convert:hover {\n",
              "      background-color: #434B5C;\n",
              "      box-shadow: 0px 1px 3px 1px rgba(0, 0, 0, 0.15);\n",
              "      filter: drop-shadow(0px 1px 2px rgba(0, 0, 0, 0.3));\n",
              "      fill: #FFFFFF;\n",
              "    }\n",
              "  </style>\n",
              "\n",
              "      <script>\n",
              "        const buttonEl =\n",
              "          document.querySelector('#df-4f0ff8f0-50ba-4905-86b5-674898f5018a button.colab-df-convert');\n",
              "        buttonEl.style.display =\n",
              "          google.colab.kernel.accessAllowed ? 'block' : 'none';\n",
              "\n",
              "        async function convertToInteractive(key) {\n",
              "          const element = document.querySelector('#df-4f0ff8f0-50ba-4905-86b5-674898f5018a');\n",
              "          const dataTable =\n",
              "            await google.colab.kernel.invokeFunction('convertToInteractive',\n",
              "                                                     [key], {});\n",
              "          if (!dataTable) return;\n",
              "\n",
              "          const docLinkHtml = 'Like what you see? Visit the ' +\n",
              "            '<a target=\"_blank\" href=https://colab.research.google.com/notebooks/data_table.ipynb>data table notebook</a>'\n",
              "            + ' to learn more about interactive tables.';\n",
              "          element.innerHTML = '';\n",
              "          dataTable['output_type'] = 'display_data';\n",
              "          await google.colab.output.renderOutput(dataTable, element);\n",
              "          const docLink = document.createElement('div');\n",
              "          docLink.innerHTML = docLinkHtml;\n",
              "          element.appendChild(docLink);\n",
              "        }\n",
              "      </script>\n",
              "    </div>\n",
              "  </div>\n",
              "  "
            ]
          },
          "metadata": {},
          "execution_count": 135
        }
      ]
    },
    {
      "cell_type": "code",
      "source": [
        "df.shape"
      ],
      "metadata": {
        "colab": {
          "base_uri": "https://localhost:8080/"
        },
        "id": "32EtMX__c0rT",
        "outputId": "e6efbee3-b0cb-4573-8f25-9ce79ab5f426"
      },
      "execution_count": null,
      "outputs": [
        {
          "output_type": "execute_result",
          "data": {
            "text/plain": [
              "(19949, 7)"
            ]
          },
          "metadata": {},
          "execution_count": 139
        }
      ]
    },
    {
      "cell_type": "markdown",
      "source": [
        "#Check the total number of labels after dropping out of one class (BAD STREETLIGHT)"
      ],
      "metadata": {
        "id": "GPmlczFT2f39"
      }
    },
    {
      "cell_type": "code",
      "source": [
        "df_class = df['name']"
      ],
      "metadata": {
        "id": "eX4rn2L8dEQj"
      },
      "execution_count": null,
      "outputs": []
    },
    {
      "cell_type": "code",
      "source": [
        "df_class = df_class.sort_values().unique()"
      ],
      "metadata": {
        "id": "hkr3L3j7dEj8"
      },
      "execution_count": null,
      "outputs": []
    },
    {
      "cell_type": "code",
      "source": [
        "df_class"
      ],
      "metadata": {
        "colab": {
          "base_uri": "https://localhost:8080/"
        },
        "id": "4UNfu-eZdE0B",
        "outputId": "fa4dff45-ad63-4861-bc0d-d9ed9f130f42"
      },
      "execution_count": null,
      "outputs": [
        {
          "output_type": "execute_result",
          "data": {
            "text/plain": [
              "array(['BAD_BILLBOARD', 'BROKEN_SIGNAGE', 'CLUTTER_SIDEWALK',\n",
              "       'CONSTRUCTION_ROAD', 'FADED_SIGNAGE', 'GARBAGE', 'GRAFFITI',\n",
              "       'POTHOLES', 'SAND_ON_ROAD', 'UNKEPT_FACADE'], dtype=object)"
            ]
          },
          "metadata": {},
          "execution_count": 142
        }
      ]
    },
    {
      "cell_type": "code",
      "source": [
        "print(len(df_class))"
      ],
      "metadata": {
        "colab": {
          "base_uri": "https://localhost:8080/"
        },
        "id": "vD_lLifUdFGI",
        "outputId": "e514b7cb-4e09-41c2-a545-ac37608fff8b"
      },
      "execution_count": null,
      "outputs": [
        {
          "output_type": "stream",
          "name": "stdout",
          "text": [
            "10\n"
          ]
        }
      ]
    },
    {
      "cell_type": "markdown",
      "source": [
        "#Check out the total number of images after dropping out of one class with its corresponding image (BAD STREETLIGHT)"
      ],
      "metadata": {
        "id": "abPrHlxM3MwA"
      }
    },
    {
      "cell_type": "code",
      "source": [
        "df_images = df['image_path']"
      ],
      "metadata": {
        "id": "xqQFG43BeKko"
      },
      "execution_count": null,
      "outputs": []
    },
    {
      "cell_type": "code",
      "source": [
        "df_images = df_images.sort_values().unique()"
      ],
      "metadata": {
        "id": "RDGnMC-qeTd0"
      },
      "execution_count": null,
      "outputs": []
    },
    {
      "cell_type": "code",
      "source": [
        "print(len(df_images))"
      ],
      "metadata": {
        "colab": {
          "base_uri": "https://localhost:8080/"
        },
        "id": "N1Hu9gdjeYpt",
        "outputId": "78462019-ae03-49fc-eb74-ff4104f4e17f"
      },
      "execution_count": null,
      "outputs": [
        {
          "output_type": "stream",
          "name": "stdout",
          "text": [
            "7873\n"
          ]
        }
      ]
    },
    {
      "cell_type": "markdown",
      "source": [
        "#Write the pandas DataFrame to a CSV file(save the modified csv annotations)"
      ],
      "metadata": {
        "id": "ghfWhJbrSPFQ"
      }
    },
    {
      "cell_type": "code",
      "source": [
        "df.to_csv(\"annotations.csv\", index=False)"
      ],
      "metadata": {
        "id": "-Pd80TlkSF9N"
      },
      "execution_count": null,
      "outputs": []
    },
    {
      "cell_type": "markdown",
      "source": [
        "#**Load the modified CSV file into the DataFrame and verify the changes**"
      ],
      "metadata": {
        "id": "iAH7JnJgTyzC"
      }
    },
    {
      "cell_type": "code",
      "source": [
        "df = pd.read_csv('annotations.csv')"
      ],
      "metadata": {
        "id": "KfrJucMMSRXa"
      },
      "execution_count": null,
      "outputs": []
    },
    {
      "cell_type": "code",
      "source": [
        "df"
      ],
      "metadata": {
        "colab": {
          "base_uri": "https://localhost:8080/",
          "height": 424
        },
        "id": "3U3-CGIfT5RI",
        "outputId": "31360562-c832-48f4-8847-bc8d1a8fcff0"
      },
      "execution_count": null,
      "outputs": [
        {
          "output_type": "execute_result",
          "data": {
            "text/plain": [
              "       class                            image_path               name    xmax  \\\n",
              "0        3.0  4a48c42c9579ec0399e6c5a3e825e765.jpg            GARBAGE  1594.0   \n",
              "1        3.0  4a48c42c9579ec0399e6c5a3e825e765.jpg            GARBAGE  1864.0   \n",
              "2        3.0  4a48c42c9579ec0399e6c5a3e825e765.jpg            GARBAGE  1472.0   \n",
              "3        7.0  ea906a663da6321bcef78be4b7d1afff.jpg      BAD_BILLBOARD  1972.0   \n",
              "4        8.0  1c7d48005a12d1b19261b8e71df7cafe.jpg       SAND_ON_ROAD  1334.0   \n",
              "...      ...                                   ...                ...     ...   \n",
              "19944    4.0  081e7bb3832ec5bb25276db161a96274.jpg  CONSTRUCTION_ROAD  2050.0   \n",
              "19945    2.0  1ff38a7af7f13b1201d17c6e1829373a.jpg           POTHOLES  1314.0   \n",
              "19946    2.0  1ff38a7af7f13b1201d17c6e1829373a.jpg           POTHOLES  1014.0   \n",
              "19947    7.0  ac97490f13140fc1bfe613ec69301b34.jpg      BAD_BILLBOARD  1912.0   \n",
              "19948    7.0  ac97490f13140fc1bfe613ec69301b34.jpg      BAD_BILLBOARD  1628.0   \n",
              "\n",
              "         xmin   ymax   ymin  \n",
              "0      1402.0  524.0  422.0  \n",
              "1      1572.0  658.0  476.0  \n",
              "2      1314.0  550.0  458.0  \n",
              "3      1572.0  272.0    0.0  \n",
              "4      1098.0  456.0  358.0  \n",
              "...       ...    ...    ...  \n",
              "19944  1200.0  816.0  296.0  \n",
              "19945   836.0  728.0  564.0  \n",
              "19946   676.0  872.0  566.0  \n",
              "19947  1426.0  220.0   50.0  \n",
              "19948  1348.0  296.0  142.0  \n",
              "\n",
              "[19949 rows x 7 columns]"
            ],
            "text/html": [
              "\n",
              "  <div id=\"df-52f4b72c-b52a-4ead-a482-22603148a465\">\n",
              "    <div class=\"colab-df-container\">\n",
              "      <div>\n",
              "<style scoped>\n",
              "    .dataframe tbody tr th:only-of-type {\n",
              "        vertical-align: middle;\n",
              "    }\n",
              "\n",
              "    .dataframe tbody tr th {\n",
              "        vertical-align: top;\n",
              "    }\n",
              "\n",
              "    .dataframe thead th {\n",
              "        text-align: right;\n",
              "    }\n",
              "</style>\n",
              "<table border=\"1\" class=\"dataframe\">\n",
              "  <thead>\n",
              "    <tr style=\"text-align: right;\">\n",
              "      <th></th>\n",
              "      <th>class</th>\n",
              "      <th>image_path</th>\n",
              "      <th>name</th>\n",
              "      <th>xmax</th>\n",
              "      <th>xmin</th>\n",
              "      <th>ymax</th>\n",
              "      <th>ymin</th>\n",
              "    </tr>\n",
              "  </thead>\n",
              "  <tbody>\n",
              "    <tr>\n",
              "      <th>0</th>\n",
              "      <td>3.0</td>\n",
              "      <td>4a48c42c9579ec0399e6c5a3e825e765.jpg</td>\n",
              "      <td>GARBAGE</td>\n",
              "      <td>1594.0</td>\n",
              "      <td>1402.0</td>\n",
              "      <td>524.0</td>\n",
              "      <td>422.0</td>\n",
              "    </tr>\n",
              "    <tr>\n",
              "      <th>1</th>\n",
              "      <td>3.0</td>\n",
              "      <td>4a48c42c9579ec0399e6c5a3e825e765.jpg</td>\n",
              "      <td>GARBAGE</td>\n",
              "      <td>1864.0</td>\n",
              "      <td>1572.0</td>\n",
              "      <td>658.0</td>\n",
              "      <td>476.0</td>\n",
              "    </tr>\n",
              "    <tr>\n",
              "      <th>2</th>\n",
              "      <td>3.0</td>\n",
              "      <td>4a48c42c9579ec0399e6c5a3e825e765.jpg</td>\n",
              "      <td>GARBAGE</td>\n",
              "      <td>1472.0</td>\n",
              "      <td>1314.0</td>\n",
              "      <td>550.0</td>\n",
              "      <td>458.0</td>\n",
              "    </tr>\n",
              "    <tr>\n",
              "      <th>3</th>\n",
              "      <td>7.0</td>\n",
              "      <td>ea906a663da6321bcef78be4b7d1afff.jpg</td>\n",
              "      <td>BAD_BILLBOARD</td>\n",
              "      <td>1972.0</td>\n",
              "      <td>1572.0</td>\n",
              "      <td>272.0</td>\n",
              "      <td>0.0</td>\n",
              "    </tr>\n",
              "    <tr>\n",
              "      <th>4</th>\n",
              "      <td>8.0</td>\n",
              "      <td>1c7d48005a12d1b19261b8e71df7cafe.jpg</td>\n",
              "      <td>SAND_ON_ROAD</td>\n",
              "      <td>1334.0</td>\n",
              "      <td>1098.0</td>\n",
              "      <td>456.0</td>\n",
              "      <td>358.0</td>\n",
              "    </tr>\n",
              "    <tr>\n",
              "      <th>...</th>\n",
              "      <td>...</td>\n",
              "      <td>...</td>\n",
              "      <td>...</td>\n",
              "      <td>...</td>\n",
              "      <td>...</td>\n",
              "      <td>...</td>\n",
              "      <td>...</td>\n",
              "    </tr>\n",
              "    <tr>\n",
              "      <th>19944</th>\n",
              "      <td>4.0</td>\n",
              "      <td>081e7bb3832ec5bb25276db161a96274.jpg</td>\n",
              "      <td>CONSTRUCTION_ROAD</td>\n",
              "      <td>2050.0</td>\n",
              "      <td>1200.0</td>\n",
              "      <td>816.0</td>\n",
              "      <td>296.0</td>\n",
              "    </tr>\n",
              "    <tr>\n",
              "      <th>19945</th>\n",
              "      <td>2.0</td>\n",
              "      <td>1ff38a7af7f13b1201d17c6e1829373a.jpg</td>\n",
              "      <td>POTHOLES</td>\n",
              "      <td>1314.0</td>\n",
              "      <td>836.0</td>\n",
              "      <td>728.0</td>\n",
              "      <td>564.0</td>\n",
              "    </tr>\n",
              "    <tr>\n",
              "      <th>19946</th>\n",
              "      <td>2.0</td>\n",
              "      <td>1ff38a7af7f13b1201d17c6e1829373a.jpg</td>\n",
              "      <td>POTHOLES</td>\n",
              "      <td>1014.0</td>\n",
              "      <td>676.0</td>\n",
              "      <td>872.0</td>\n",
              "      <td>566.0</td>\n",
              "    </tr>\n",
              "    <tr>\n",
              "      <th>19947</th>\n",
              "      <td>7.0</td>\n",
              "      <td>ac97490f13140fc1bfe613ec69301b34.jpg</td>\n",
              "      <td>BAD_BILLBOARD</td>\n",
              "      <td>1912.0</td>\n",
              "      <td>1426.0</td>\n",
              "      <td>220.0</td>\n",
              "      <td>50.0</td>\n",
              "    </tr>\n",
              "    <tr>\n",
              "      <th>19948</th>\n",
              "      <td>7.0</td>\n",
              "      <td>ac97490f13140fc1bfe613ec69301b34.jpg</td>\n",
              "      <td>BAD_BILLBOARD</td>\n",
              "      <td>1628.0</td>\n",
              "      <td>1348.0</td>\n",
              "      <td>296.0</td>\n",
              "      <td>142.0</td>\n",
              "    </tr>\n",
              "  </tbody>\n",
              "</table>\n",
              "<p>19949 rows × 7 columns</p>\n",
              "</div>\n",
              "      <button class=\"colab-df-convert\" onclick=\"convertToInteractive('df-52f4b72c-b52a-4ead-a482-22603148a465')\"\n",
              "              title=\"Convert this dataframe to an interactive table.\"\n",
              "              style=\"display:none;\">\n",
              "        \n",
              "  <svg xmlns=\"http://www.w3.org/2000/svg\" height=\"24px\"viewBox=\"0 0 24 24\"\n",
              "       width=\"24px\">\n",
              "    <path d=\"M0 0h24v24H0V0z\" fill=\"none\"/>\n",
              "    <path d=\"M18.56 5.44l.94 2.06.94-2.06 2.06-.94-2.06-.94-.94-2.06-.94 2.06-2.06.94zm-11 1L8.5 8.5l.94-2.06 2.06-.94-2.06-.94L8.5 2.5l-.94 2.06-2.06.94zm10 10l.94 2.06.94-2.06 2.06-.94-2.06-.94-.94-2.06-.94 2.06-2.06.94z\"/><path d=\"M17.41 7.96l-1.37-1.37c-.4-.4-.92-.59-1.43-.59-.52 0-1.04.2-1.43.59L10.3 9.45l-7.72 7.72c-.78.78-.78 2.05 0 2.83L4 21.41c.39.39.9.59 1.41.59.51 0 1.02-.2 1.41-.59l7.78-7.78 2.81-2.81c.8-.78.8-2.07 0-2.86zM5.41 20L4 18.59l7.72-7.72 1.47 1.35L5.41 20z\"/>\n",
              "  </svg>\n",
              "      </button>\n",
              "      \n",
              "  <style>\n",
              "    .colab-df-container {\n",
              "      display:flex;\n",
              "      flex-wrap:wrap;\n",
              "      gap: 12px;\n",
              "    }\n",
              "\n",
              "    .colab-df-convert {\n",
              "      background-color: #E8F0FE;\n",
              "      border: none;\n",
              "      border-radius: 50%;\n",
              "      cursor: pointer;\n",
              "      display: none;\n",
              "      fill: #1967D2;\n",
              "      height: 32px;\n",
              "      padding: 0 0 0 0;\n",
              "      width: 32px;\n",
              "    }\n",
              "\n",
              "    .colab-df-convert:hover {\n",
              "      background-color: #E2EBFA;\n",
              "      box-shadow: 0px 1px 2px rgba(60, 64, 67, 0.3), 0px 1px 3px 1px rgba(60, 64, 67, 0.15);\n",
              "      fill: #174EA6;\n",
              "    }\n",
              "\n",
              "    [theme=dark] .colab-df-convert {\n",
              "      background-color: #3B4455;\n",
              "      fill: #D2E3FC;\n",
              "    }\n",
              "\n",
              "    [theme=dark] .colab-df-convert:hover {\n",
              "      background-color: #434B5C;\n",
              "      box-shadow: 0px 1px 3px 1px rgba(0, 0, 0, 0.15);\n",
              "      filter: drop-shadow(0px 1px 2px rgba(0, 0, 0, 0.3));\n",
              "      fill: #FFFFFF;\n",
              "    }\n",
              "  </style>\n",
              "\n",
              "      <script>\n",
              "        const buttonEl =\n",
              "          document.querySelector('#df-52f4b72c-b52a-4ead-a482-22603148a465 button.colab-df-convert');\n",
              "        buttonEl.style.display =\n",
              "          google.colab.kernel.accessAllowed ? 'block' : 'none';\n",
              "\n",
              "        async function convertToInteractive(key) {\n",
              "          const element = document.querySelector('#df-52f4b72c-b52a-4ead-a482-22603148a465');\n",
              "          const dataTable =\n",
              "            await google.colab.kernel.invokeFunction('convertToInteractive',\n",
              "                                                     [key], {});\n",
              "          if (!dataTable) return;\n",
              "\n",
              "          const docLinkHtml = 'Like what you see? Visit the ' +\n",
              "            '<a target=\"_blank\" href=https://colab.research.google.com/notebooks/data_table.ipynb>data table notebook</a>'\n",
              "            + ' to learn more about interactive tables.';\n",
              "          element.innerHTML = '';\n",
              "          dataTable['output_type'] = 'display_data';\n",
              "          await google.colab.output.renderOutput(dataTable, element);\n",
              "          const docLink = document.createElement('div');\n",
              "          docLink.innerHTML = docLinkHtml;\n",
              "          element.appendChild(docLink);\n",
              "        }\n",
              "      </script>\n",
              "    </div>\n",
              "  </div>\n",
              "  "
            ]
          },
          "metadata": {},
          "execution_count": 153
        }
      ]
    },
    {
      "cell_type": "code",
      "source": [
        "df.shape"
      ],
      "metadata": {
        "colab": {
          "base_uri": "https://localhost:8080/"
        },
        "id": "SUNwDx0WT0iY",
        "outputId": "95f7be3b-17dc-4783-9bcd-3da83003ef1e"
      },
      "execution_count": null,
      "outputs": [
        {
          "output_type": "execute_result",
          "data": {
            "text/plain": [
              "(19949, 7)"
            ]
          },
          "metadata": {},
          "execution_count": 154
        }
      ]
    },
    {
      "cell_type": "markdown",
      "source": [
        "#**Split the modified csv annotations into train.csv and test.csv files**"
      ],
      "metadata": {
        "id": "IEPMybNdVs6U"
      }
    },
    {
      "cell_type": "markdown",
      "source": [
        "#**1- train.csv annotations**"
      ],
      "metadata": {
        "id": "Pb3PrDURWOmT"
      }
    },
    {
      "cell_type": "markdown",
      "source": [
        "#Slicing rows"
      ],
      "metadata": {
        "id": "ycBwT8Y_Eme4"
      }
    },
    {
      "cell_type": "code",
      "source": [
        "train_df = df.iloc[:15858]"
      ],
      "metadata": {
        "id": "oL7wVsEnahih"
      },
      "execution_count": null,
      "outputs": []
    },
    {
      "cell_type": "markdown",
      "source": [
        "#Check the number of train images\n"
      ],
      "metadata": {
        "id": "p6yUTFptEskO"
      }
    },
    {
      "cell_type": "code",
      "source": [
        "train_images = train_df['image_path']"
      ],
      "metadata": {
        "id": "YMMsd3DdasmH"
      },
      "execution_count": null,
      "outputs": []
    },
    {
      "cell_type": "code",
      "source": [
        "train_images = train_images.sort_values().unique()"
      ],
      "metadata": {
        "id": "KlAL3Tr2ass9"
      },
      "execution_count": null,
      "outputs": []
    },
    {
      "cell_type": "code",
      "source": [
        "print(len(train_images))"
      ],
      "metadata": {
        "colab": {
          "base_uri": "https://localhost:8080/"
        },
        "id": "4xfn27meas5C",
        "outputId": "deacba6b-bf09-40a0-8b57-fb1f011bb894"
      },
      "execution_count": null,
      "outputs": [
        {
          "output_type": "stream",
          "name": "stdout",
          "text": [
            "6300\n"
          ]
        }
      ]
    },
    {
      "cell_type": "markdown",
      "source": [
        "#Verify that the sliced train csv dataset contains all types of visual pollution (10 categories)"
      ],
      "metadata": {
        "id": "7siRaGIBN55B"
      }
    },
    {
      "cell_type": "code",
      "source": [
        "train_class = train_df['name']"
      ],
      "metadata": {
        "id": "UZ21F_b9PWJX"
      },
      "execution_count": null,
      "outputs": []
    },
    {
      "cell_type": "code",
      "source": [
        "train_class = train_class.sort_values().unique()"
      ],
      "metadata": {
        "id": "3ZEhuT-pPZAG"
      },
      "execution_count": null,
      "outputs": []
    },
    {
      "cell_type": "code",
      "source": [
        "train_class"
      ],
      "metadata": {
        "colab": {
          "base_uri": "https://localhost:8080/"
        },
        "id": "YPY2TrbxR_Pr",
        "outputId": "0f97a141-532c-44f2-82d2-f19fbb00616c"
      },
      "execution_count": null,
      "outputs": [
        {
          "output_type": "execute_result",
          "data": {
            "text/plain": [
              "array(['BAD_BILLBOARD', 'BROKEN_SIGNAGE', 'CLUTTER_SIDEWALK',\n",
              "       'CONSTRUCTION_ROAD', 'FADED_SIGNAGE', 'GARBAGE', 'GRAFFITI',\n",
              "       'POTHOLES', 'SAND_ON_ROAD', 'UNKEPT_FACADE'], dtype=object)"
            ]
          },
          "metadata": {},
          "execution_count": 161
        }
      ]
    },
    {
      "cell_type": "code",
      "source": [
        "print(len(train_class))"
      ],
      "metadata": {
        "colab": {
          "base_uri": "https://localhost:8080/"
        },
        "id": "kvILAhaZPbPM",
        "outputId": "f3144967-0d70-4a1c-e6bd-e098f36b9be7"
      },
      "execution_count": null,
      "outputs": [
        {
          "output_type": "stream",
          "name": "stdout",
          "text": [
            "10\n"
          ]
        }
      ]
    },
    {
      "cell_type": "markdown",
      "source": [
        "#Write the pandas dataframe to train.csv file(save the annotations)"
      ],
      "metadata": {
        "id": "OrkExl0oarmd"
      }
    },
    {
      "cell_type": "code",
      "source": [
        "train_df.to_csv(\"train.csv\", index=False)"
      ],
      "metadata": {
        "id": "STZsGudcWjpX"
      },
      "execution_count": null,
      "outputs": []
    },
    {
      "cell_type": "markdown",
      "source": [
        "#**Load the train CSV file into a Pandas DataFrame**\n",
        "#to verify that everything is saved correctly"
      ],
      "metadata": {
        "id": "P6btUBQAHGga"
      }
    },
    {
      "cell_type": "code",
      "source": [
        "train_df = pd.read_csv('train.csv')"
      ],
      "metadata": {
        "id": "VvkP5doiWyRC"
      },
      "execution_count": null,
      "outputs": []
    },
    {
      "cell_type": "code",
      "source": [
        "train_df"
      ],
      "metadata": {
        "colab": {
          "base_uri": "https://localhost:8080/",
          "height": 424
        },
        "id": "tMmz-IBoW8D2",
        "outputId": "69d8e315-7314-4789-fbd8-d0ec90ebdb12"
      },
      "execution_count": null,
      "outputs": [
        {
          "output_type": "execute_result",
          "data": {
            "text/plain": [
              "       class                            image_path           name    xmax  \\\n",
              "0        3.0  4a48c42c9579ec0399e6c5a3e825e765.jpg        GARBAGE  1594.0   \n",
              "1        3.0  4a48c42c9579ec0399e6c5a3e825e765.jpg        GARBAGE  1864.0   \n",
              "2        3.0  4a48c42c9579ec0399e6c5a3e825e765.jpg        GARBAGE  1472.0   \n",
              "3        7.0  ea906a663da6321bcef78be4b7d1afff.jpg  BAD_BILLBOARD  1972.0   \n",
              "4        8.0  1c7d48005a12d1b19261b8e71df7cafe.jpg   SAND_ON_ROAD  1334.0   \n",
              "...      ...                                   ...            ...     ...   \n",
              "15853    1.0  6028f8d801929a376ba22f33873316d2.jpg  FADED_SIGNAGE  1672.0   \n",
              "15854    7.0  6028f8d801929a376ba22f33873316d2.jpg  BAD_BILLBOARD  1334.0   \n",
              "15855    7.0  6028f8d801929a376ba22f33873316d2.jpg  BAD_BILLBOARD  1142.0   \n",
              "15856    7.0  6028f8d801929a376ba22f33873316d2.jpg  BAD_BILLBOARD   338.0   \n",
              "15857    2.0  fcd66b82fdab8e04f4650f531d656799.jpg       POTHOLES   866.0   \n",
              "\n",
              "         xmin   ymax   ymin  \n",
              "0      1402.0  524.0  422.0  \n",
              "1      1572.0  658.0  476.0  \n",
              "2      1314.0  550.0  458.0  \n",
              "3      1572.0  272.0    0.0  \n",
              "4      1098.0  456.0  358.0  \n",
              "...       ...    ...    ...  \n",
              "15853  1530.0  422.0  290.0  \n",
              "15854  1154.0  316.0  218.0  \n",
              "15855   954.0  306.0  210.0  \n",
              "15856    70.0  380.0  236.0  \n",
              "15857   432.0  688.0  416.0  \n",
              "\n",
              "[15858 rows x 7 columns]"
            ],
            "text/html": [
              "\n",
              "  <div id=\"df-472882b9-b6a3-4b4a-81a5-f24a13d54c8c\">\n",
              "    <div class=\"colab-df-container\">\n",
              "      <div>\n",
              "<style scoped>\n",
              "    .dataframe tbody tr th:only-of-type {\n",
              "        vertical-align: middle;\n",
              "    }\n",
              "\n",
              "    .dataframe tbody tr th {\n",
              "        vertical-align: top;\n",
              "    }\n",
              "\n",
              "    .dataframe thead th {\n",
              "        text-align: right;\n",
              "    }\n",
              "</style>\n",
              "<table border=\"1\" class=\"dataframe\">\n",
              "  <thead>\n",
              "    <tr style=\"text-align: right;\">\n",
              "      <th></th>\n",
              "      <th>class</th>\n",
              "      <th>image_path</th>\n",
              "      <th>name</th>\n",
              "      <th>xmax</th>\n",
              "      <th>xmin</th>\n",
              "      <th>ymax</th>\n",
              "      <th>ymin</th>\n",
              "    </tr>\n",
              "  </thead>\n",
              "  <tbody>\n",
              "    <tr>\n",
              "      <th>0</th>\n",
              "      <td>3.0</td>\n",
              "      <td>4a48c42c9579ec0399e6c5a3e825e765.jpg</td>\n",
              "      <td>GARBAGE</td>\n",
              "      <td>1594.0</td>\n",
              "      <td>1402.0</td>\n",
              "      <td>524.0</td>\n",
              "      <td>422.0</td>\n",
              "    </tr>\n",
              "    <tr>\n",
              "      <th>1</th>\n",
              "      <td>3.0</td>\n",
              "      <td>4a48c42c9579ec0399e6c5a3e825e765.jpg</td>\n",
              "      <td>GARBAGE</td>\n",
              "      <td>1864.0</td>\n",
              "      <td>1572.0</td>\n",
              "      <td>658.0</td>\n",
              "      <td>476.0</td>\n",
              "    </tr>\n",
              "    <tr>\n",
              "      <th>2</th>\n",
              "      <td>3.0</td>\n",
              "      <td>4a48c42c9579ec0399e6c5a3e825e765.jpg</td>\n",
              "      <td>GARBAGE</td>\n",
              "      <td>1472.0</td>\n",
              "      <td>1314.0</td>\n",
              "      <td>550.0</td>\n",
              "      <td>458.0</td>\n",
              "    </tr>\n",
              "    <tr>\n",
              "      <th>3</th>\n",
              "      <td>7.0</td>\n",
              "      <td>ea906a663da6321bcef78be4b7d1afff.jpg</td>\n",
              "      <td>BAD_BILLBOARD</td>\n",
              "      <td>1972.0</td>\n",
              "      <td>1572.0</td>\n",
              "      <td>272.0</td>\n",
              "      <td>0.0</td>\n",
              "    </tr>\n",
              "    <tr>\n",
              "      <th>4</th>\n",
              "      <td>8.0</td>\n",
              "      <td>1c7d48005a12d1b19261b8e71df7cafe.jpg</td>\n",
              "      <td>SAND_ON_ROAD</td>\n",
              "      <td>1334.0</td>\n",
              "      <td>1098.0</td>\n",
              "      <td>456.0</td>\n",
              "      <td>358.0</td>\n",
              "    </tr>\n",
              "    <tr>\n",
              "      <th>...</th>\n",
              "      <td>...</td>\n",
              "      <td>...</td>\n",
              "      <td>...</td>\n",
              "      <td>...</td>\n",
              "      <td>...</td>\n",
              "      <td>...</td>\n",
              "      <td>...</td>\n",
              "    </tr>\n",
              "    <tr>\n",
              "      <th>15853</th>\n",
              "      <td>1.0</td>\n",
              "      <td>6028f8d801929a376ba22f33873316d2.jpg</td>\n",
              "      <td>FADED_SIGNAGE</td>\n",
              "      <td>1672.0</td>\n",
              "      <td>1530.0</td>\n",
              "      <td>422.0</td>\n",
              "      <td>290.0</td>\n",
              "    </tr>\n",
              "    <tr>\n",
              "      <th>15854</th>\n",
              "      <td>7.0</td>\n",
              "      <td>6028f8d801929a376ba22f33873316d2.jpg</td>\n",
              "      <td>BAD_BILLBOARD</td>\n",
              "      <td>1334.0</td>\n",
              "      <td>1154.0</td>\n",
              "      <td>316.0</td>\n",
              "      <td>218.0</td>\n",
              "    </tr>\n",
              "    <tr>\n",
              "      <th>15855</th>\n",
              "      <td>7.0</td>\n",
              "      <td>6028f8d801929a376ba22f33873316d2.jpg</td>\n",
              "      <td>BAD_BILLBOARD</td>\n",
              "      <td>1142.0</td>\n",
              "      <td>954.0</td>\n",
              "      <td>306.0</td>\n",
              "      <td>210.0</td>\n",
              "    </tr>\n",
              "    <tr>\n",
              "      <th>15856</th>\n",
              "      <td>7.0</td>\n",
              "      <td>6028f8d801929a376ba22f33873316d2.jpg</td>\n",
              "      <td>BAD_BILLBOARD</td>\n",
              "      <td>338.0</td>\n",
              "      <td>70.0</td>\n",
              "      <td>380.0</td>\n",
              "      <td>236.0</td>\n",
              "    </tr>\n",
              "    <tr>\n",
              "      <th>15857</th>\n",
              "      <td>2.0</td>\n",
              "      <td>fcd66b82fdab8e04f4650f531d656799.jpg</td>\n",
              "      <td>POTHOLES</td>\n",
              "      <td>866.0</td>\n",
              "      <td>432.0</td>\n",
              "      <td>688.0</td>\n",
              "      <td>416.0</td>\n",
              "    </tr>\n",
              "  </tbody>\n",
              "</table>\n",
              "<p>15858 rows × 7 columns</p>\n",
              "</div>\n",
              "      <button class=\"colab-df-convert\" onclick=\"convertToInteractive('df-472882b9-b6a3-4b4a-81a5-f24a13d54c8c')\"\n",
              "              title=\"Convert this dataframe to an interactive table.\"\n",
              "              style=\"display:none;\">\n",
              "        \n",
              "  <svg xmlns=\"http://www.w3.org/2000/svg\" height=\"24px\"viewBox=\"0 0 24 24\"\n",
              "       width=\"24px\">\n",
              "    <path d=\"M0 0h24v24H0V0z\" fill=\"none\"/>\n",
              "    <path d=\"M18.56 5.44l.94 2.06.94-2.06 2.06-.94-2.06-.94-.94-2.06-.94 2.06-2.06.94zm-11 1L8.5 8.5l.94-2.06 2.06-.94-2.06-.94L8.5 2.5l-.94 2.06-2.06.94zm10 10l.94 2.06.94-2.06 2.06-.94-2.06-.94-.94-2.06-.94 2.06-2.06.94z\"/><path d=\"M17.41 7.96l-1.37-1.37c-.4-.4-.92-.59-1.43-.59-.52 0-1.04.2-1.43.59L10.3 9.45l-7.72 7.72c-.78.78-.78 2.05 0 2.83L4 21.41c.39.39.9.59 1.41.59.51 0 1.02-.2 1.41-.59l7.78-7.78 2.81-2.81c.8-.78.8-2.07 0-2.86zM5.41 20L4 18.59l7.72-7.72 1.47 1.35L5.41 20z\"/>\n",
              "  </svg>\n",
              "      </button>\n",
              "      \n",
              "  <style>\n",
              "    .colab-df-container {\n",
              "      display:flex;\n",
              "      flex-wrap:wrap;\n",
              "      gap: 12px;\n",
              "    }\n",
              "\n",
              "    .colab-df-convert {\n",
              "      background-color: #E8F0FE;\n",
              "      border: none;\n",
              "      border-radius: 50%;\n",
              "      cursor: pointer;\n",
              "      display: none;\n",
              "      fill: #1967D2;\n",
              "      height: 32px;\n",
              "      padding: 0 0 0 0;\n",
              "      width: 32px;\n",
              "    }\n",
              "\n",
              "    .colab-df-convert:hover {\n",
              "      background-color: #E2EBFA;\n",
              "      box-shadow: 0px 1px 2px rgba(60, 64, 67, 0.3), 0px 1px 3px 1px rgba(60, 64, 67, 0.15);\n",
              "      fill: #174EA6;\n",
              "    }\n",
              "\n",
              "    [theme=dark] .colab-df-convert {\n",
              "      background-color: #3B4455;\n",
              "      fill: #D2E3FC;\n",
              "    }\n",
              "\n",
              "    [theme=dark] .colab-df-convert:hover {\n",
              "      background-color: #434B5C;\n",
              "      box-shadow: 0px 1px 3px 1px rgba(0, 0, 0, 0.15);\n",
              "      filter: drop-shadow(0px 1px 2px rgba(0, 0, 0, 0.3));\n",
              "      fill: #FFFFFF;\n",
              "    }\n",
              "  </style>\n",
              "\n",
              "      <script>\n",
              "        const buttonEl =\n",
              "          document.querySelector('#df-472882b9-b6a3-4b4a-81a5-f24a13d54c8c button.colab-df-convert');\n",
              "        buttonEl.style.display =\n",
              "          google.colab.kernel.accessAllowed ? 'block' : 'none';\n",
              "\n",
              "        async function convertToInteractive(key) {\n",
              "          const element = document.querySelector('#df-472882b9-b6a3-4b4a-81a5-f24a13d54c8c');\n",
              "          const dataTable =\n",
              "            await google.colab.kernel.invokeFunction('convertToInteractive',\n",
              "                                                     [key], {});\n",
              "          if (!dataTable) return;\n",
              "\n",
              "          const docLinkHtml = 'Like what you see? Visit the ' +\n",
              "            '<a target=\"_blank\" href=https://colab.research.google.com/notebooks/data_table.ipynb>data table notebook</a>'\n",
              "            + ' to learn more about interactive tables.';\n",
              "          element.innerHTML = '';\n",
              "          dataTable['output_type'] = 'display_data';\n",
              "          await google.colab.output.renderOutput(dataTable, element);\n",
              "          const docLink = document.createElement('div');\n",
              "          docLink.innerHTML = docLinkHtml;\n",
              "          element.appendChild(docLink);\n",
              "        }\n",
              "      </script>\n",
              "    </div>\n",
              "  </div>\n",
              "  "
            ]
          },
          "metadata": {},
          "execution_count": 165
        }
      ]
    },
    {
      "cell_type": "code",
      "source": [
        "train_df.shape"
      ],
      "metadata": {
        "colab": {
          "base_uri": "https://localhost:8080/"
        },
        "id": "c0TMZ_i0XF5-",
        "outputId": "db4d5688-0d2f-4687-ef55-10cd90bc056f"
      },
      "execution_count": null,
      "outputs": [
        {
          "output_type": "execute_result",
          "data": {
            "text/plain": [
              "(15858, 7)"
            ]
          },
          "metadata": {},
          "execution_count": 8
        }
      ]
    },
    {
      "cell_type": "markdown",
      "source": [
        "#**2- test.csv annotations**"
      ],
      "metadata": {
        "id": "ZIDjH_fZH-Br"
      }
    },
    {
      "cell_type": "markdown",
      "source": [
        "#Slicing rows"
      ],
      "metadata": {
        "id": "_zidQ1lDIGlc"
      }
    },
    {
      "cell_type": "code",
      "source": [
        "test_df = df.iloc[15858:]"
      ],
      "metadata": {
        "id": "QBzXQjvFXx2T"
      },
      "execution_count": null,
      "outputs": []
    },
    {
      "cell_type": "markdown",
      "source": [
        "#Check the number of test images"
      ],
      "metadata": {
        "id": "aAfXfNj3JKfa"
      }
    },
    {
      "cell_type": "code",
      "source": [
        "test_images = test_df['image_path']"
      ],
      "metadata": {
        "id": "ode_KDuxJDaF"
      },
      "execution_count": null,
      "outputs": []
    },
    {
      "cell_type": "code",
      "source": [
        "test_images = test_images.sort_values().unique()"
      ],
      "metadata": {
        "id": "wiiQEJcnJ8yx"
      },
      "execution_count": null,
      "outputs": []
    },
    {
      "cell_type": "code",
      "source": [
        "print(len(test_images))"
      ],
      "metadata": {
        "colab": {
          "base_uri": "https://localhost:8080/"
        },
        "id": "RQBx8vjdKDYt",
        "outputId": "c0cf3f24-b446-46c4-aef0-6f5064b313db"
      },
      "execution_count": null,
      "outputs": [
        {
          "output_type": "stream",
          "name": "stdout",
          "text": [
            "1573\n"
          ]
        }
      ]
    },
    {
      "cell_type": "markdown",
      "source": [
        "#Verify that the sliced test csv dataset contains all types of visual pollution (10 categories)"
      ],
      "metadata": {
        "id": "_TsLFgjUMfAH"
      }
    },
    {
      "cell_type": "code",
      "source": [
        "test_class = test_df['name']"
      ],
      "metadata": {
        "id": "O6Qrbc9nL47v"
      },
      "execution_count": null,
      "outputs": []
    },
    {
      "cell_type": "code",
      "source": [
        "test_class = test_class.sort_values().unique()"
      ],
      "metadata": {
        "id": "lHGzbxa9MDb_"
      },
      "execution_count": null,
      "outputs": []
    },
    {
      "cell_type": "code",
      "source": [
        "test_class"
      ],
      "metadata": {
        "colab": {
          "base_uri": "https://localhost:8080/"
        },
        "id": "Ukjthyo7wtz0",
        "outputId": "673c83e1-d59f-4bf1-dd49-f16b871ef45d"
      },
      "execution_count": null,
      "outputs": [
        {
          "output_type": "execute_result",
          "data": {
            "text/plain": [
              "array(['BAD_BILLBOARD', 'BROKEN_SIGNAGE', 'CLUTTER_SIDEWALK',\n",
              "       'CONSTRUCTION_ROAD', 'FADED_SIGNAGE', 'GARBAGE', 'GRAFFITI',\n",
              "       'POTHOLES', 'SAND_ON_ROAD', 'UNKEPT_FACADE'], dtype=object)"
            ]
          },
          "metadata": {},
          "execution_count": 174
        }
      ]
    },
    {
      "cell_type": "code",
      "source": [
        "print(len(test_class))"
      ],
      "metadata": {
        "colab": {
          "base_uri": "https://localhost:8080/"
        },
        "id": "7hznVLFoMJe_",
        "outputId": "92b1a153-322c-4cd3-d180-3d38f965d039"
      },
      "execution_count": null,
      "outputs": [
        {
          "output_type": "stream",
          "name": "stdout",
          "text": [
            "10\n"
          ]
        }
      ]
    },
    {
      "cell_type": "markdown",
      "source": [
        "#Write the pandas dataframe to test.csv file(save the annotations)"
      ],
      "metadata": {
        "id": "29yfI_S0KdK1"
      }
    },
    {
      "cell_type": "code",
      "source": [
        "test_df.to_csv(\"test.csv\", index=False)"
      ],
      "metadata": {
        "id": "7BrSfXmNKJuQ"
      },
      "execution_count": null,
      "outputs": []
    },
    {
      "cell_type": "markdown",
      "source": [
        "#**Load the test CSV file into a Pandas DataFrame**\n",
        "#to verify that everything is saved correctly"
      ],
      "metadata": {
        "id": "4AiI_6htKzjA"
      }
    },
    {
      "cell_type": "code",
      "source": [
        "test_df = pd.read_csv('test.csv')"
      ],
      "metadata": {
        "id": "IhApatheKyas"
      },
      "execution_count": null,
      "outputs": []
    },
    {
      "cell_type": "code",
      "source": [
        "test_df"
      ],
      "metadata": {
        "colab": {
          "base_uri": "https://localhost:8080/",
          "height": 424
        },
        "id": "SqaeXxR-KsSe",
        "outputId": "d7505481-2c7c-4783-ce92-33e6e731d146"
      },
      "execution_count": null,
      "outputs": [
        {
          "output_type": "execute_result",
          "data": {
            "text/plain": [
              "      class                            image_path               name    xmax  \\\n",
              "0       2.0  f3170bf0bc4fd71db4be995d3b7adc86.jpg           POTHOLES   830.0   \n",
              "1       2.0  f3170bf0bc4fd71db4be995d3b7adc86.jpg           POTHOLES  1186.0   \n",
              "2       2.0  f3170bf0bc4fd71db4be995d3b7adc86.jpg           POTHOLES   320.0   \n",
              "3       9.0  dbd930c9a67c931a447f09c241abd272.jpg   CLUTTER_SIDEWALK   800.0   \n",
              "4       9.0  dbd930c9a67c931a447f09c241abd272.jpg   CLUTTER_SIDEWALK  1492.0   \n",
              "...     ...                                   ...                ...     ...   \n",
              "4086    4.0  081e7bb3832ec5bb25276db161a96274.jpg  CONSTRUCTION_ROAD  2050.0   \n",
              "4087    2.0  1ff38a7af7f13b1201d17c6e1829373a.jpg           POTHOLES  1314.0   \n",
              "4088    2.0  1ff38a7af7f13b1201d17c6e1829373a.jpg           POTHOLES  1014.0   \n",
              "4089    7.0  ac97490f13140fc1bfe613ec69301b34.jpg      BAD_BILLBOARD  1912.0   \n",
              "4090    7.0  ac97490f13140fc1bfe613ec69301b34.jpg      BAD_BILLBOARD  1628.0   \n",
              "\n",
              "        xmin    ymax   ymin  \n",
              "0      604.0   516.0  372.0  \n",
              "1      976.0   534.0  376.0  \n",
              "2      -60.0  1124.0  650.0  \n",
              "3      -94.0   688.0  414.0  \n",
              "4      494.0   692.0  406.0  \n",
              "...      ...     ...    ...  \n",
              "4086  1200.0   816.0  296.0  \n",
              "4087   836.0   728.0  564.0  \n",
              "4088   676.0   872.0  566.0  \n",
              "4089  1426.0   220.0   50.0  \n",
              "4090  1348.0   296.0  142.0  \n",
              "\n",
              "[4091 rows x 7 columns]"
            ],
            "text/html": [
              "\n",
              "  <div id=\"df-cf2c2d96-47ac-4833-8e7c-27b8eb4ba81c\">\n",
              "    <div class=\"colab-df-container\">\n",
              "      <div>\n",
              "<style scoped>\n",
              "    .dataframe tbody tr th:only-of-type {\n",
              "        vertical-align: middle;\n",
              "    }\n",
              "\n",
              "    .dataframe tbody tr th {\n",
              "        vertical-align: top;\n",
              "    }\n",
              "\n",
              "    .dataframe thead th {\n",
              "        text-align: right;\n",
              "    }\n",
              "</style>\n",
              "<table border=\"1\" class=\"dataframe\">\n",
              "  <thead>\n",
              "    <tr style=\"text-align: right;\">\n",
              "      <th></th>\n",
              "      <th>class</th>\n",
              "      <th>image_path</th>\n",
              "      <th>name</th>\n",
              "      <th>xmax</th>\n",
              "      <th>xmin</th>\n",
              "      <th>ymax</th>\n",
              "      <th>ymin</th>\n",
              "    </tr>\n",
              "  </thead>\n",
              "  <tbody>\n",
              "    <tr>\n",
              "      <th>0</th>\n",
              "      <td>2.0</td>\n",
              "      <td>f3170bf0bc4fd71db4be995d3b7adc86.jpg</td>\n",
              "      <td>POTHOLES</td>\n",
              "      <td>830.0</td>\n",
              "      <td>604.0</td>\n",
              "      <td>516.0</td>\n",
              "      <td>372.0</td>\n",
              "    </tr>\n",
              "    <tr>\n",
              "      <th>1</th>\n",
              "      <td>2.0</td>\n",
              "      <td>f3170bf0bc4fd71db4be995d3b7adc86.jpg</td>\n",
              "      <td>POTHOLES</td>\n",
              "      <td>1186.0</td>\n",
              "      <td>976.0</td>\n",
              "      <td>534.0</td>\n",
              "      <td>376.0</td>\n",
              "    </tr>\n",
              "    <tr>\n",
              "      <th>2</th>\n",
              "      <td>2.0</td>\n",
              "      <td>f3170bf0bc4fd71db4be995d3b7adc86.jpg</td>\n",
              "      <td>POTHOLES</td>\n",
              "      <td>320.0</td>\n",
              "      <td>-60.0</td>\n",
              "      <td>1124.0</td>\n",
              "      <td>650.0</td>\n",
              "    </tr>\n",
              "    <tr>\n",
              "      <th>3</th>\n",
              "      <td>9.0</td>\n",
              "      <td>dbd930c9a67c931a447f09c241abd272.jpg</td>\n",
              "      <td>CLUTTER_SIDEWALK</td>\n",
              "      <td>800.0</td>\n",
              "      <td>-94.0</td>\n",
              "      <td>688.0</td>\n",
              "      <td>414.0</td>\n",
              "    </tr>\n",
              "    <tr>\n",
              "      <th>4</th>\n",
              "      <td>9.0</td>\n",
              "      <td>dbd930c9a67c931a447f09c241abd272.jpg</td>\n",
              "      <td>CLUTTER_SIDEWALK</td>\n",
              "      <td>1492.0</td>\n",
              "      <td>494.0</td>\n",
              "      <td>692.0</td>\n",
              "      <td>406.0</td>\n",
              "    </tr>\n",
              "    <tr>\n",
              "      <th>...</th>\n",
              "      <td>...</td>\n",
              "      <td>...</td>\n",
              "      <td>...</td>\n",
              "      <td>...</td>\n",
              "      <td>...</td>\n",
              "      <td>...</td>\n",
              "      <td>...</td>\n",
              "    </tr>\n",
              "    <tr>\n",
              "      <th>4086</th>\n",
              "      <td>4.0</td>\n",
              "      <td>081e7bb3832ec5bb25276db161a96274.jpg</td>\n",
              "      <td>CONSTRUCTION_ROAD</td>\n",
              "      <td>2050.0</td>\n",
              "      <td>1200.0</td>\n",
              "      <td>816.0</td>\n",
              "      <td>296.0</td>\n",
              "    </tr>\n",
              "    <tr>\n",
              "      <th>4087</th>\n",
              "      <td>2.0</td>\n",
              "      <td>1ff38a7af7f13b1201d17c6e1829373a.jpg</td>\n",
              "      <td>POTHOLES</td>\n",
              "      <td>1314.0</td>\n",
              "      <td>836.0</td>\n",
              "      <td>728.0</td>\n",
              "      <td>564.0</td>\n",
              "    </tr>\n",
              "    <tr>\n",
              "      <th>4088</th>\n",
              "      <td>2.0</td>\n",
              "      <td>1ff38a7af7f13b1201d17c6e1829373a.jpg</td>\n",
              "      <td>POTHOLES</td>\n",
              "      <td>1014.0</td>\n",
              "      <td>676.0</td>\n",
              "      <td>872.0</td>\n",
              "      <td>566.0</td>\n",
              "    </tr>\n",
              "    <tr>\n",
              "      <th>4089</th>\n",
              "      <td>7.0</td>\n",
              "      <td>ac97490f13140fc1bfe613ec69301b34.jpg</td>\n",
              "      <td>BAD_BILLBOARD</td>\n",
              "      <td>1912.0</td>\n",
              "      <td>1426.0</td>\n",
              "      <td>220.0</td>\n",
              "      <td>50.0</td>\n",
              "    </tr>\n",
              "    <tr>\n",
              "      <th>4090</th>\n",
              "      <td>7.0</td>\n",
              "      <td>ac97490f13140fc1bfe613ec69301b34.jpg</td>\n",
              "      <td>BAD_BILLBOARD</td>\n",
              "      <td>1628.0</td>\n",
              "      <td>1348.0</td>\n",
              "      <td>296.0</td>\n",
              "      <td>142.0</td>\n",
              "    </tr>\n",
              "  </tbody>\n",
              "</table>\n",
              "<p>4091 rows × 7 columns</p>\n",
              "</div>\n",
              "      <button class=\"colab-df-convert\" onclick=\"convertToInteractive('df-cf2c2d96-47ac-4833-8e7c-27b8eb4ba81c')\"\n",
              "              title=\"Convert this dataframe to an interactive table.\"\n",
              "              style=\"display:none;\">\n",
              "        \n",
              "  <svg xmlns=\"http://www.w3.org/2000/svg\" height=\"24px\"viewBox=\"0 0 24 24\"\n",
              "       width=\"24px\">\n",
              "    <path d=\"M0 0h24v24H0V0z\" fill=\"none\"/>\n",
              "    <path d=\"M18.56 5.44l.94 2.06.94-2.06 2.06-.94-2.06-.94-.94-2.06-.94 2.06-2.06.94zm-11 1L8.5 8.5l.94-2.06 2.06-.94-2.06-.94L8.5 2.5l-.94 2.06-2.06.94zm10 10l.94 2.06.94-2.06 2.06-.94-2.06-.94-.94-2.06-.94 2.06-2.06.94z\"/><path d=\"M17.41 7.96l-1.37-1.37c-.4-.4-.92-.59-1.43-.59-.52 0-1.04.2-1.43.59L10.3 9.45l-7.72 7.72c-.78.78-.78 2.05 0 2.83L4 21.41c.39.39.9.59 1.41.59.51 0 1.02-.2 1.41-.59l7.78-7.78 2.81-2.81c.8-.78.8-2.07 0-2.86zM5.41 20L4 18.59l7.72-7.72 1.47 1.35L5.41 20z\"/>\n",
              "  </svg>\n",
              "      </button>\n",
              "      \n",
              "  <style>\n",
              "    .colab-df-container {\n",
              "      display:flex;\n",
              "      flex-wrap:wrap;\n",
              "      gap: 12px;\n",
              "    }\n",
              "\n",
              "    .colab-df-convert {\n",
              "      background-color: #E8F0FE;\n",
              "      border: none;\n",
              "      border-radius: 50%;\n",
              "      cursor: pointer;\n",
              "      display: none;\n",
              "      fill: #1967D2;\n",
              "      height: 32px;\n",
              "      padding: 0 0 0 0;\n",
              "      width: 32px;\n",
              "    }\n",
              "\n",
              "    .colab-df-convert:hover {\n",
              "      background-color: #E2EBFA;\n",
              "      box-shadow: 0px 1px 2px rgba(60, 64, 67, 0.3), 0px 1px 3px 1px rgba(60, 64, 67, 0.15);\n",
              "      fill: #174EA6;\n",
              "    }\n",
              "\n",
              "    [theme=dark] .colab-df-convert {\n",
              "      background-color: #3B4455;\n",
              "      fill: #D2E3FC;\n",
              "    }\n",
              "\n",
              "    [theme=dark] .colab-df-convert:hover {\n",
              "      background-color: #434B5C;\n",
              "      box-shadow: 0px 1px 3px 1px rgba(0, 0, 0, 0.15);\n",
              "      filter: drop-shadow(0px 1px 2px rgba(0, 0, 0, 0.3));\n",
              "      fill: #FFFFFF;\n",
              "    }\n",
              "  </style>\n",
              "\n",
              "      <script>\n",
              "        const buttonEl =\n",
              "          document.querySelector('#df-cf2c2d96-47ac-4833-8e7c-27b8eb4ba81c button.colab-df-convert');\n",
              "        buttonEl.style.display =\n",
              "          google.colab.kernel.accessAllowed ? 'block' : 'none';\n",
              "\n",
              "        async function convertToInteractive(key) {\n",
              "          const element = document.querySelector('#df-cf2c2d96-47ac-4833-8e7c-27b8eb4ba81c');\n",
              "          const dataTable =\n",
              "            await google.colab.kernel.invokeFunction('convertToInteractive',\n",
              "                                                     [key], {});\n",
              "          if (!dataTable) return;\n",
              "\n",
              "          const docLinkHtml = 'Like what you see? Visit the ' +\n",
              "            '<a target=\"_blank\" href=https://colab.research.google.com/notebooks/data_table.ipynb>data table notebook</a>'\n",
              "            + ' to learn more about interactive tables.';\n",
              "          element.innerHTML = '';\n",
              "          dataTable['output_type'] = 'display_data';\n",
              "          await google.colab.output.renderOutput(dataTable, element);\n",
              "          const docLink = document.createElement('div');\n",
              "          docLink.innerHTML = docLinkHtml;\n",
              "          element.appendChild(docLink);\n",
              "        }\n",
              "      </script>\n",
              "    </div>\n",
              "  </div>\n",
              "  "
            ]
          },
          "metadata": {},
          "execution_count": 177
        }
      ]
    },
    {
      "cell_type": "code",
      "source": [
        "test_df.shape"
      ],
      "metadata": {
        "colab": {
          "base_uri": "https://localhost:8080/"
        },
        "id": "0T_d6MDWLkXS",
        "outputId": "27f3a3ed-bb0c-4aa3-aa8e-305cdbdd731b"
      },
      "execution_count": null,
      "outputs": [
        {
          "output_type": "execute_result",
          "data": {
            "text/plain": [
              "(4091, 7)"
            ]
          },
          "metadata": {},
          "execution_count": 6
        }
      ]
    },
    {
      "cell_type": "markdown",
      "source": [
        "#**Split images into train and test images**\n",
        "80% train images of the total 7873 images = 6300 train images\n",
        "\n",
        "20% test images of the total 7873 images = 1573 train images"
      ],
      "metadata": {
        "id": "8Eekt2KS5lln"
      }
    },
    {
      "cell_type": "markdown",
      "source": [
        "#**1- Move train images to a new folder**"
      ],
      "metadata": {
        "id": "pVLwT7iEXOne"
      }
    },
    {
      "cell_type": "code",
      "source": [
        "train_df = pd.read_csv('train.csv')"
      ],
      "metadata": {
        "id": "0UIhZNWbPaWU"
      },
      "execution_count": null,
      "outputs": []
    },
    {
      "cell_type": "code",
      "source": [
        "images_name = train_df['image_path']"
      ],
      "metadata": {
        "id": "eTgoWemcP9jl"
      },
      "execution_count": null,
      "outputs": []
    },
    {
      "cell_type": "code",
      "source": [
        "images_name = images_name.sort_values().unique()"
      ],
      "metadata": {
        "id": "rJ7nuYjxP-Va"
      },
      "execution_count": null,
      "outputs": []
    },
    {
      "cell_type": "code",
      "source": [
        "print(len(images_name))"
      ],
      "metadata": {
        "colab": {
          "base_uri": "https://localhost:8080/"
        },
        "id": "oPAimc0TWAZW",
        "outputId": "058c0914-ed14-49e2-d795-d1d54149e668"
      },
      "execution_count": null,
      "outputs": [
        {
          "output_type": "stream",
          "name": "stdout",
          "text": [
            "6300\n"
          ]
        }
      ]
    },
    {
      "cell_type": "code",
      "source": [
        "images_path = '/content/drive/MyDrive/visual-pollution-object-detection/preprocessing-dataset/images'"
      ],
      "metadata": {
        "id": "Bz8MSp6HP-fd"
      },
      "execution_count": null,
      "outputs": []
    },
    {
      "cell_type": "code",
      "source": [
        "train_dir = '/content/drive/MyDrive/visual-pollution-object-detection/preprocessing-dataset/train'"
      ],
      "metadata": {
        "id": "FJ9rgGDRRRfG"
      },
      "execution_count": null,
      "outputs": []
    },
    {
      "cell_type": "code",
      "source": [
        "for image_id in images_name:\n",
        "\n",
        "    for image_id in list(train_df[train_df['image_path']==image_id]['image_path']): \n",
        "        get_image = os.path.join(images_path, image_id) \n",
        "        move_image = shutil.copy(get_image, train_dir)"
      ],
      "metadata": {
        "id": "bOAIuV7tTKcu"
      },
      "execution_count": null,
      "outputs": []
    },
    {
      "cell_type": "code",
      "source": [
        "total_train_images = os.listdir('/content/drive/MyDrive/visual-pollution-object-detection/preprocessing-dataset/train')\n",
        "print(len(total_train_images))"
      ],
      "metadata": {
        "colab": {
          "base_uri": "https://localhost:8080/"
        },
        "id": "qOB5W3VIRRtg",
        "outputId": "0ae8b8ae-3cfc-42bb-a198-e2f89d33f878"
      },
      "execution_count": null,
      "outputs": [
        {
          "output_type": "stream",
          "name": "stdout",
          "text": [
            "6300\n"
          ]
        }
      ]
    },
    {
      "cell_type": "markdown",
      "source": [
        "#**2- Move test images to a new folder**\n"
      ],
      "metadata": {
        "id": "NCX-4gUxWOoo"
      }
    },
    {
      "cell_type": "code",
      "source": [
        "test_df = pd.read_csv('test.csv')"
      ],
      "metadata": {
        "id": "hOtN0WtdRR6B"
      },
      "execution_count": null,
      "outputs": []
    },
    {
      "cell_type": "code",
      "source": [
        "images_name = test_df['image_path']"
      ],
      "metadata": {
        "id": "nY-xqUWU7HrS"
      },
      "execution_count": null,
      "outputs": []
    },
    {
      "cell_type": "code",
      "source": [
        "images_name = images_name.sort_values().unique()"
      ],
      "metadata": {
        "id": "JfU-JxIJTsX8"
      },
      "execution_count": null,
      "outputs": []
    },
    {
      "cell_type": "code",
      "source": [
        "print(len(images_name))"
      ],
      "metadata": {
        "colab": {
          "base_uri": "https://localhost:8080/"
        },
        "id": "FzXECS29TtVN",
        "outputId": "5f25d4e0-f498-4b3d-dc1d-368f1a1ecb16"
      },
      "execution_count": null,
      "outputs": [
        {
          "output_type": "stream",
          "name": "stdout",
          "text": [
            "1573\n"
          ]
        }
      ]
    },
    {
      "cell_type": "code",
      "source": [
        "images_path = '/content/drive/MyDrive/visual-pollution-object-detection/preprocessing-dataset/images'"
      ],
      "metadata": {
        "id": "P03zgnF4T5vv"
      },
      "execution_count": null,
      "outputs": []
    },
    {
      "cell_type": "code",
      "source": [
        "test_dir = '/content/drive/MyDrive/visual-pollution-object-detection/preprocessing-dataset/test'"
      ],
      "metadata": {
        "id": "J9W4liI3UCI2"
      },
      "execution_count": null,
      "outputs": []
    },
    {
      "cell_type": "code",
      "source": [
        "for image_id in images_name:\n",
        "\n",
        "    for image_id in list(test_df[test_df['image_path']==image_id]['image_path']): \n",
        "        get_image = os.path.join(images_path, image_id) \n",
        "        move_image = shutil.copy(get_image, test_dir)"
      ],
      "metadata": {
        "id": "ofciQhq2UNkW"
      },
      "execution_count": null,
      "outputs": []
    },
    {
      "cell_type": "code",
      "source": [
        "total_test_images = os.listdir('/content/drive/MyDrive/visual-pollution-object-detection/preprocessing-dataset/test')\n",
        "print(len(total_test_images))"
      ],
      "metadata": {
        "colab": {
          "base_uri": "https://localhost:8080/"
        },
        "id": "CRMfo-n6UrCG",
        "outputId": "d3e26594-6ab3-4a37-88c3-6fd6ba0a8b53"
      },
      "execution_count": null,
      "outputs": [
        {
          "output_type": "stream",
          "name": "stdout",
          "text": [
            "1573\n"
          ]
        }
      ]
    },
    {
      "cell_type": "markdown",
      "source": [
        "#**Due to the huge size of the dataset, I decided to train the model on 700 images**\n",
        "**500 train images and**\n",
        "**200 test images**\n",
        "\n",
        "The whole model training process will be demonstrated in the ``visual pollution-object-detection`` jupyter notebook."
      ],
      "metadata": {
        "id": "Zo_Xi1vWp1YS"
      }
    },
    {
      "cell_type": "markdown",
      "source": [
        "#**Frist --------------> Split the last created train csv annotations into train.csv and test.csv files**"
      ],
      "metadata": {
        "id": "vcpJeHXZj4bw"
      }
    },
    {
      "cell_type": "code",
      "source": [
        "df = pd.read_csv('train.csv')"
      ],
      "metadata": {
        "id": "NRZHub3Ep19f"
      },
      "execution_count": null,
      "outputs": []
    },
    {
      "cell_type": "code",
      "source": [
        "df"
      ],
      "metadata": {
        "colab": {
          "base_uri": "https://localhost:8080/",
          "height": 424
        },
        "id": "77GW0x2qqCNt",
        "outputId": "27c957b4-3d50-4e05-d8eb-9ec158cbc218"
      },
      "execution_count": null,
      "outputs": [
        {
          "output_type": "execute_result",
          "data": {
            "text/plain": [
              "       class                            image_path           name    xmax  \\\n",
              "0        3.0  4a48c42c9579ec0399e6c5a3e825e765.jpg        GARBAGE  1594.0   \n",
              "1        3.0  4a48c42c9579ec0399e6c5a3e825e765.jpg        GARBAGE  1864.0   \n",
              "2        3.0  4a48c42c9579ec0399e6c5a3e825e765.jpg        GARBAGE  1472.0   \n",
              "3        7.0  ea906a663da6321bcef78be4b7d1afff.jpg  BAD_BILLBOARD  1972.0   \n",
              "4        8.0  1c7d48005a12d1b19261b8e71df7cafe.jpg   SAND_ON_ROAD  1334.0   \n",
              "...      ...                                   ...            ...     ...   \n",
              "15853    1.0  6028f8d801929a376ba22f33873316d2.jpg  FADED_SIGNAGE  1672.0   \n",
              "15854    7.0  6028f8d801929a376ba22f33873316d2.jpg  BAD_BILLBOARD  1334.0   \n",
              "15855    7.0  6028f8d801929a376ba22f33873316d2.jpg  BAD_BILLBOARD  1142.0   \n",
              "15856    7.0  6028f8d801929a376ba22f33873316d2.jpg  BAD_BILLBOARD   338.0   \n",
              "15857    2.0  fcd66b82fdab8e04f4650f531d656799.jpg       POTHOLES   866.0   \n",
              "\n",
              "         xmin   ymax   ymin  \n",
              "0      1402.0  524.0  422.0  \n",
              "1      1572.0  658.0  476.0  \n",
              "2      1314.0  550.0  458.0  \n",
              "3      1572.0  272.0    0.0  \n",
              "4      1098.0  456.0  358.0  \n",
              "...       ...    ...    ...  \n",
              "15853  1530.0  422.0  290.0  \n",
              "15854  1154.0  316.0  218.0  \n",
              "15855   954.0  306.0  210.0  \n",
              "15856    70.0  380.0  236.0  \n",
              "15857   432.0  688.0  416.0  \n",
              "\n",
              "[15858 rows x 7 columns]"
            ],
            "text/html": [
              "\n",
              "  <div id=\"df-bcef45a4-0233-458b-863a-d56199800861\">\n",
              "    <div class=\"colab-df-container\">\n",
              "      <div>\n",
              "<style scoped>\n",
              "    .dataframe tbody tr th:only-of-type {\n",
              "        vertical-align: middle;\n",
              "    }\n",
              "\n",
              "    .dataframe tbody tr th {\n",
              "        vertical-align: top;\n",
              "    }\n",
              "\n",
              "    .dataframe thead th {\n",
              "        text-align: right;\n",
              "    }\n",
              "</style>\n",
              "<table border=\"1\" class=\"dataframe\">\n",
              "  <thead>\n",
              "    <tr style=\"text-align: right;\">\n",
              "      <th></th>\n",
              "      <th>class</th>\n",
              "      <th>image_path</th>\n",
              "      <th>name</th>\n",
              "      <th>xmax</th>\n",
              "      <th>xmin</th>\n",
              "      <th>ymax</th>\n",
              "      <th>ymin</th>\n",
              "    </tr>\n",
              "  </thead>\n",
              "  <tbody>\n",
              "    <tr>\n",
              "      <th>0</th>\n",
              "      <td>3.0</td>\n",
              "      <td>4a48c42c9579ec0399e6c5a3e825e765.jpg</td>\n",
              "      <td>GARBAGE</td>\n",
              "      <td>1594.0</td>\n",
              "      <td>1402.0</td>\n",
              "      <td>524.0</td>\n",
              "      <td>422.0</td>\n",
              "    </tr>\n",
              "    <tr>\n",
              "      <th>1</th>\n",
              "      <td>3.0</td>\n",
              "      <td>4a48c42c9579ec0399e6c5a3e825e765.jpg</td>\n",
              "      <td>GARBAGE</td>\n",
              "      <td>1864.0</td>\n",
              "      <td>1572.0</td>\n",
              "      <td>658.0</td>\n",
              "      <td>476.0</td>\n",
              "    </tr>\n",
              "    <tr>\n",
              "      <th>2</th>\n",
              "      <td>3.0</td>\n",
              "      <td>4a48c42c9579ec0399e6c5a3e825e765.jpg</td>\n",
              "      <td>GARBAGE</td>\n",
              "      <td>1472.0</td>\n",
              "      <td>1314.0</td>\n",
              "      <td>550.0</td>\n",
              "      <td>458.0</td>\n",
              "    </tr>\n",
              "    <tr>\n",
              "      <th>3</th>\n",
              "      <td>7.0</td>\n",
              "      <td>ea906a663da6321bcef78be4b7d1afff.jpg</td>\n",
              "      <td>BAD_BILLBOARD</td>\n",
              "      <td>1972.0</td>\n",
              "      <td>1572.0</td>\n",
              "      <td>272.0</td>\n",
              "      <td>0.0</td>\n",
              "    </tr>\n",
              "    <tr>\n",
              "      <th>4</th>\n",
              "      <td>8.0</td>\n",
              "      <td>1c7d48005a12d1b19261b8e71df7cafe.jpg</td>\n",
              "      <td>SAND_ON_ROAD</td>\n",
              "      <td>1334.0</td>\n",
              "      <td>1098.0</td>\n",
              "      <td>456.0</td>\n",
              "      <td>358.0</td>\n",
              "    </tr>\n",
              "    <tr>\n",
              "      <th>...</th>\n",
              "      <td>...</td>\n",
              "      <td>...</td>\n",
              "      <td>...</td>\n",
              "      <td>...</td>\n",
              "      <td>...</td>\n",
              "      <td>...</td>\n",
              "      <td>...</td>\n",
              "    </tr>\n",
              "    <tr>\n",
              "      <th>15853</th>\n",
              "      <td>1.0</td>\n",
              "      <td>6028f8d801929a376ba22f33873316d2.jpg</td>\n",
              "      <td>FADED_SIGNAGE</td>\n",
              "      <td>1672.0</td>\n",
              "      <td>1530.0</td>\n",
              "      <td>422.0</td>\n",
              "      <td>290.0</td>\n",
              "    </tr>\n",
              "    <tr>\n",
              "      <th>15854</th>\n",
              "      <td>7.0</td>\n",
              "      <td>6028f8d801929a376ba22f33873316d2.jpg</td>\n",
              "      <td>BAD_BILLBOARD</td>\n",
              "      <td>1334.0</td>\n",
              "      <td>1154.0</td>\n",
              "      <td>316.0</td>\n",
              "      <td>218.0</td>\n",
              "    </tr>\n",
              "    <tr>\n",
              "      <th>15855</th>\n",
              "      <td>7.0</td>\n",
              "      <td>6028f8d801929a376ba22f33873316d2.jpg</td>\n",
              "      <td>BAD_BILLBOARD</td>\n",
              "      <td>1142.0</td>\n",
              "      <td>954.0</td>\n",
              "      <td>306.0</td>\n",
              "      <td>210.0</td>\n",
              "    </tr>\n",
              "    <tr>\n",
              "      <th>15856</th>\n",
              "      <td>7.0</td>\n",
              "      <td>6028f8d801929a376ba22f33873316d2.jpg</td>\n",
              "      <td>BAD_BILLBOARD</td>\n",
              "      <td>338.0</td>\n",
              "      <td>70.0</td>\n",
              "      <td>380.0</td>\n",
              "      <td>236.0</td>\n",
              "    </tr>\n",
              "    <tr>\n",
              "      <th>15857</th>\n",
              "      <td>2.0</td>\n",
              "      <td>fcd66b82fdab8e04f4650f531d656799.jpg</td>\n",
              "      <td>POTHOLES</td>\n",
              "      <td>866.0</td>\n",
              "      <td>432.0</td>\n",
              "      <td>688.0</td>\n",
              "      <td>416.0</td>\n",
              "    </tr>\n",
              "  </tbody>\n",
              "</table>\n",
              "<p>15858 rows × 7 columns</p>\n",
              "</div>\n",
              "      <button class=\"colab-df-convert\" onclick=\"convertToInteractive('df-bcef45a4-0233-458b-863a-d56199800861')\"\n",
              "              title=\"Convert this dataframe to an interactive table.\"\n",
              "              style=\"display:none;\">\n",
              "        \n",
              "  <svg xmlns=\"http://www.w3.org/2000/svg\" height=\"24px\"viewBox=\"0 0 24 24\"\n",
              "       width=\"24px\">\n",
              "    <path d=\"M0 0h24v24H0V0z\" fill=\"none\"/>\n",
              "    <path d=\"M18.56 5.44l.94 2.06.94-2.06 2.06-.94-2.06-.94-.94-2.06-.94 2.06-2.06.94zm-11 1L8.5 8.5l.94-2.06 2.06-.94-2.06-.94L8.5 2.5l-.94 2.06-2.06.94zm10 10l.94 2.06.94-2.06 2.06-.94-2.06-.94-.94-2.06-.94 2.06-2.06.94z\"/><path d=\"M17.41 7.96l-1.37-1.37c-.4-.4-.92-.59-1.43-.59-.52 0-1.04.2-1.43.59L10.3 9.45l-7.72 7.72c-.78.78-.78 2.05 0 2.83L4 21.41c.39.39.9.59 1.41.59.51 0 1.02-.2 1.41-.59l7.78-7.78 2.81-2.81c.8-.78.8-2.07 0-2.86zM5.41 20L4 18.59l7.72-7.72 1.47 1.35L5.41 20z\"/>\n",
              "  </svg>\n",
              "      </button>\n",
              "      \n",
              "  <style>\n",
              "    .colab-df-container {\n",
              "      display:flex;\n",
              "      flex-wrap:wrap;\n",
              "      gap: 12px;\n",
              "    }\n",
              "\n",
              "    .colab-df-convert {\n",
              "      background-color: #E8F0FE;\n",
              "      border: none;\n",
              "      border-radius: 50%;\n",
              "      cursor: pointer;\n",
              "      display: none;\n",
              "      fill: #1967D2;\n",
              "      height: 32px;\n",
              "      padding: 0 0 0 0;\n",
              "      width: 32px;\n",
              "    }\n",
              "\n",
              "    .colab-df-convert:hover {\n",
              "      background-color: #E2EBFA;\n",
              "      box-shadow: 0px 1px 2px rgba(60, 64, 67, 0.3), 0px 1px 3px 1px rgba(60, 64, 67, 0.15);\n",
              "      fill: #174EA6;\n",
              "    }\n",
              "\n",
              "    [theme=dark] .colab-df-convert {\n",
              "      background-color: #3B4455;\n",
              "      fill: #D2E3FC;\n",
              "    }\n",
              "\n",
              "    [theme=dark] .colab-df-convert:hover {\n",
              "      background-color: #434B5C;\n",
              "      box-shadow: 0px 1px 3px 1px rgba(0, 0, 0, 0.15);\n",
              "      filter: drop-shadow(0px 1px 2px rgba(0, 0, 0, 0.3));\n",
              "      fill: #FFFFFF;\n",
              "    }\n",
              "  </style>\n",
              "\n",
              "      <script>\n",
              "        const buttonEl =\n",
              "          document.querySelector('#df-bcef45a4-0233-458b-863a-d56199800861 button.colab-df-convert');\n",
              "        buttonEl.style.display =\n",
              "          google.colab.kernel.accessAllowed ? 'block' : 'none';\n",
              "\n",
              "        async function convertToInteractive(key) {\n",
              "          const element = document.querySelector('#df-bcef45a4-0233-458b-863a-d56199800861');\n",
              "          const dataTable =\n",
              "            await google.colab.kernel.invokeFunction('convertToInteractive',\n",
              "                                                     [key], {});\n",
              "          if (!dataTable) return;\n",
              "\n",
              "          const docLinkHtml = 'Like what you see? Visit the ' +\n",
              "            '<a target=\"_blank\" href=https://colab.research.google.com/notebooks/data_table.ipynb>data table notebook</a>'\n",
              "            + ' to learn more about interactive tables.';\n",
              "          element.innerHTML = '';\n",
              "          dataTable['output_type'] = 'display_data';\n",
              "          await google.colab.output.renderOutput(dataTable, element);\n",
              "          const docLink = document.createElement('div');\n",
              "          docLink.innerHTML = docLinkHtml;\n",
              "          element.appendChild(docLink);\n",
              "        }\n",
              "      </script>\n",
              "    </div>\n",
              "  </div>\n",
              "  "
            ]
          },
          "metadata": {},
          "execution_count": 35
        }
      ]
    },
    {
      "cell_type": "code",
      "source": [
        "df.shape"
      ],
      "metadata": {
        "colab": {
          "base_uri": "https://localhost:8080/"
        },
        "id": "kCPIEMx8qEM-",
        "outputId": "d1edd157-e2f8-46eb-eeb0-027ab945e125"
      },
      "execution_count": null,
      "outputs": [
        {
          "output_type": "execute_result",
          "data": {
            "text/plain": [
              "(15858, 7)"
            ]
          },
          "metadata": {},
          "execution_count": 36
        }
      ]
    },
    {
      "cell_type": "markdown",
      "source": [
        "#**1- train.csv annotations**"
      ],
      "metadata": {
        "id": "B4q7nmPZuQMV"
      }
    },
    {
      "cell_type": "markdown",
      "source": [
        "#Slicing rows"
      ],
      "metadata": {
        "id": "N8RpubAkkfE_"
      }
    },
    {
      "cell_type": "code",
      "source": [
        "train_df = df.iloc[:1200]"
      ],
      "metadata": {
        "id": "TCvP80EbqFw5"
      },
      "execution_count": null,
      "outputs": []
    },
    {
      "cell_type": "markdown",
      "source": [
        "#Check the number of train images"
      ],
      "metadata": {
        "id": "om317adguSbc"
      }
    },
    {
      "cell_type": "code",
      "source": [
        "images_name = train_df['image_path']"
      ],
      "metadata": {
        "id": "t8D4GsEFqRhe"
      },
      "execution_count": null,
      "outputs": []
    },
    {
      "cell_type": "code",
      "source": [
        "images_name = images_name.sort_values().unique()"
      ],
      "metadata": {
        "id": "ZYF1HJeWrKZg"
      },
      "execution_count": null,
      "outputs": []
    },
    {
      "cell_type": "code",
      "source": [
        "print(len(images_name))"
      ],
      "metadata": {
        "colab": {
          "base_uri": "https://localhost:8080/"
        },
        "id": "FflYvzNVrL3Z",
        "outputId": "c32c46bd-9297-4510-d261-c47a72f060a6"
      },
      "execution_count": null,
      "outputs": [
        {
          "output_type": "stream",
          "name": "stdout",
          "text": [
            "500\n"
          ]
        }
      ]
    },
    {
      "cell_type": "markdown",
      "source": [
        "#Verify that the sliced train csv dataset contains all types of visual pollution (10 categories)"
      ],
      "metadata": {
        "id": "FL3MovjJuUI-"
      }
    },
    {
      "cell_type": "code",
      "source": [
        "train_labels = train_df['name']"
      ],
      "metadata": {
        "id": "Ifr7K54DrTyV"
      },
      "execution_count": null,
      "outputs": []
    },
    {
      "cell_type": "code",
      "source": [
        "train_labels = train_labels.sort_values().unique()"
      ],
      "metadata": {
        "id": "8lWBQITUrxUG"
      },
      "execution_count": null,
      "outputs": []
    },
    {
      "cell_type": "code",
      "source": [
        "print(len(train_labels))"
      ],
      "metadata": {
        "colab": {
          "base_uri": "https://localhost:8080/"
        },
        "id": "GGsHC0evrz7y",
        "outputId": "0dc14c4b-77bd-4387-fa1c-272626490771"
      },
      "execution_count": null,
      "outputs": [
        {
          "output_type": "stream",
          "name": "stdout",
          "text": [
            "10\n"
          ]
        }
      ]
    },
    {
      "cell_type": "code",
      "source": [
        "train_labels"
      ],
      "metadata": {
        "colab": {
          "base_uri": "https://localhost:8080/"
        },
        "id": "EQ9pfOAtr1IM",
        "outputId": "1ba1fc5e-6832-4123-f6ac-1135653c37b5"
      },
      "execution_count": null,
      "outputs": [
        {
          "output_type": "execute_result",
          "data": {
            "text/plain": [
              "array(['BAD_BILLBOARD', 'BROKEN_SIGNAGE', 'CLUTTER_SIDEWALK',\n",
              "       'CONSTRUCTION_ROAD', 'FADED_SIGNAGE', 'GARBAGE', 'GRAFFITI',\n",
              "       'POTHOLES', 'SAND_ON_ROAD', 'UNKEPT_FACADE'], dtype=object)"
            ]
          },
          "metadata": {},
          "execution_count": 45
        }
      ]
    },
    {
      "cell_type": "markdown",
      "source": [
        "#**Write the pandas dataframe to a train.csv file(save the annotations)**"
      ],
      "metadata": {
        "id": "LRz_7WjYuWw7"
      }
    },
    {
      "cell_type": "code",
      "source": [
        "train_df.to_csv(\"/content/drive/MyDrive/visual-pollution-object-detection/data/train_labels.csv\", index=False)"
      ],
      "metadata": {
        "id": "v1l9fNCosBOQ"
      },
      "execution_count": null,
      "outputs": []
    },
    {
      "cell_type": "markdown",
      "source": [
        "#**2- test.csv annotations**"
      ],
      "metadata": {
        "id": "ho0PbdIvuYX_"
      }
    },
    {
      "cell_type": "markdown",
      "source": [
        "#Slicing rows"
      ],
      "metadata": {
        "id": "pk5I9sssm8NN"
      }
    },
    {
      "cell_type": "code",
      "source": [
        "test_df = df.iloc[1200:1701]"
      ],
      "metadata": {
        "id": "SVTAIay0sCbG"
      },
      "execution_count": null,
      "outputs": []
    },
    {
      "cell_type": "markdown",
      "source": [
        "#Check the number of test images"
      ],
      "metadata": {
        "id": "FWeDKiKCvstq"
      }
    },
    {
      "cell_type": "code",
      "source": [
        "images_name = test_df['image_path']"
      ],
      "metadata": {
        "id": "Q1RdXRPdukSk"
      },
      "execution_count": null,
      "outputs": []
    },
    {
      "cell_type": "code",
      "source": [
        "images_name = images_name.sort_values().unique()"
      ],
      "metadata": {
        "id": "ZpTkMN1iu2fX"
      },
      "execution_count": null,
      "outputs": []
    },
    {
      "cell_type": "code",
      "source": [
        "print(len(images_name))"
      ],
      "metadata": {
        "colab": {
          "base_uri": "https://localhost:8080/"
        },
        "id": "2oOK5_40u5Da",
        "outputId": "8b9aefd0-c086-48e4-f3c0-66418286460e"
      },
      "execution_count": null,
      "outputs": [
        {
          "output_type": "stream",
          "name": "stdout",
          "text": [
            "200\n"
          ]
        }
      ]
    },
    {
      "cell_type": "markdown",
      "source": [
        "#Verify that the sliced test csv dataset contains all types of visual pollution (10 categories)"
      ],
      "metadata": {
        "id": "BaTIik0Uvuq-"
      }
    },
    {
      "cell_type": "code",
      "source": [
        "test_labels = test_df['name']"
      ],
      "metadata": {
        "id": "vokZbYNAu6J3"
      },
      "execution_count": null,
      "outputs": []
    },
    {
      "cell_type": "code",
      "source": [
        "test_labels = test_labels.sort_values().unique()"
      ],
      "metadata": {
        "id": "umjnAqvfv-nS"
      },
      "execution_count": null,
      "outputs": []
    },
    {
      "cell_type": "code",
      "source": [
        "print(len(test_labels))"
      ],
      "metadata": {
        "colab": {
          "base_uri": "https://localhost:8080/"
        },
        "id": "Z037I1P-wBBS",
        "outputId": "c96b7ab0-7d3d-467d-af6d-c0b04f420206"
      },
      "execution_count": null,
      "outputs": [
        {
          "output_type": "stream",
          "name": "stdout",
          "text": [
            "10\n"
          ]
        }
      ]
    },
    {
      "cell_type": "markdown",
      "source": [
        "#Write the pandas dataframe to a test.csv file(save the annotations)"
      ],
      "metadata": {
        "id": "SbpdlylNnjNg"
      }
    },
    {
      "cell_type": "code",
      "source": [
        "test_df.to_csv(\"/content/drive/MyDrive/visual-pollution-object-detection/data/test_labels.csv\", index=False)"
      ],
      "metadata": {
        "id": "45-NYE5XwB_W"
      },
      "execution_count": null,
      "outputs": []
    },
    {
      "cell_type": "markdown",
      "source": [
        "#**Second --------------> Split images from train folder into train and test** \n",
        "80% approximately train images of the total 6300 images = 500 train images\n",
        "\n",
        "20% approximately test images of the total 6300 images = 200 train images "
      ],
      "metadata": {
        "id": "lwxqX_1VoQu2"
      }
    },
    {
      "cell_type": "markdown",
      "source": [
        "#**1- Move 500 train images into a train folder**"
      ],
      "metadata": {
        "id": "bTjWASFdwoEY"
      }
    },
    {
      "cell_type": "code",
      "source": [
        "train_df = pd.read_csv('/content/drive/MyDrive/visual-pollution-object-detection/data/train_labels.csv')"
      ],
      "metadata": {
        "id": "59fWoA4RxGd9"
      },
      "execution_count": null,
      "outputs": []
    },
    {
      "cell_type": "code",
      "source": [
        "images_name = train_df['image_path']"
      ],
      "metadata": {
        "id": "OtSQY2h9xGl4"
      },
      "execution_count": null,
      "outputs": []
    },
    {
      "cell_type": "code",
      "source": [
        "images_name = images_name.sort_values().unique()"
      ],
      "metadata": {
        "id": "V00S73x2xGs4"
      },
      "execution_count": null,
      "outputs": []
    },
    {
      "cell_type": "code",
      "source": [
        "print(len(images_name))"
      ],
      "metadata": {
        "colab": {
          "base_uri": "https://localhost:8080/"
        },
        "id": "htN24XqyxG2k",
        "outputId": "1b1961ff-bc31-4942-a94f-ebfaabfac8fc"
      },
      "execution_count": null,
      "outputs": [
        {
          "output_type": "stream",
          "name": "stdout",
          "text": [
            "500\n"
          ]
        }
      ]
    },
    {
      "cell_type": "code",
      "source": [
        "total_train_images = os.listdir('/content/drive/MyDrive/visual-pollution-object-detection/preprocessing-dataset/train')\n",
        "print(len(total_train_images))"
      ],
      "metadata": {
        "colab": {
          "base_uri": "https://localhost:8080/"
        },
        "id": "7OmCLQfcUTQa",
        "outputId": "669c2d9e-49b8-4e35-9742-d9d0e58fe03e"
      },
      "execution_count": null,
      "outputs": [
        {
          "output_type": "stream",
          "name": "stdout",
          "text": [
            "6300\n"
          ]
        }
      ]
    },
    {
      "cell_type": "code",
      "source": [
        "images_path = '/content/drive/MyDrive/visual-pollution-object-detection/preprocessing-dataset/train'"
      ],
      "metadata": {
        "id": "8M4bnF20xG8S"
      },
      "execution_count": null,
      "outputs": []
    },
    {
      "cell_type": "code",
      "source": [
        "train_dir = '/content/drive/MyDrive/visual-pollution-object-detection/images/train'"
      ],
      "metadata": {
        "id": "oQEq3jXQxHIj"
      },
      "execution_count": null,
      "outputs": []
    },
    {
      "cell_type": "code",
      "source": [
        "for img_id in images_name:\n",
        "  get_image = os.path.join(images_path, img_id)\n",
        "  move_image_to_cat = shutil.copy(get_image, train_dir)"
      ],
      "metadata": {
        "id": "xpnIKtG3wTiv"
      },
      "execution_count": null,
      "outputs": []
    },
    {
      "cell_type": "code",
      "source": [
        "total_train_images = os.listdir(train_dir)\n",
        "print(len(total_train_images))"
      ],
      "metadata": {
        "colab": {
          "base_uri": "https://localhost:8080/"
        },
        "id": "G6GFlfSdVLAq",
        "outputId": "5b3a9f29-6ce1-4777-9112-f7bf59817b99"
      },
      "execution_count": null,
      "outputs": [
        {
          "output_type": "stream",
          "name": "stdout",
          "text": [
            "500\n"
          ]
        }
      ]
    },
    {
      "cell_type": "markdown",
      "source": [
        "#**2- Move 200 test images into a test folder**"
      ],
      "metadata": {
        "id": "SknMgHbUGcGd"
      }
    },
    {
      "cell_type": "code",
      "source": [
        "test_df = pd.read_csv('/content/drive/MyDrive/visual-pollution-object-detection/data/test_labels.csv')"
      ],
      "metadata": {
        "id": "iZd5k8XzGhkg"
      },
      "execution_count": null,
      "outputs": []
    },
    {
      "cell_type": "code",
      "source": [
        "images_name = test_df['image_path']"
      ],
      "metadata": {
        "id": "qDv4rAtwGrXe"
      },
      "execution_count": null,
      "outputs": []
    },
    {
      "cell_type": "code",
      "source": [
        "images_name = images_name.sort_values().unique()"
      ],
      "metadata": {
        "id": "AZgLAwyXGxIS"
      },
      "execution_count": null,
      "outputs": []
    },
    {
      "cell_type": "code",
      "source": [
        "print(len(images_name))"
      ],
      "metadata": {
        "colab": {
          "base_uri": "https://localhost:8080/"
        },
        "id": "tuP86V2GG3q_",
        "outputId": "f9689cd1-8195-463e-ed41-bafb682d7ad9"
      },
      "execution_count": null,
      "outputs": [
        {
          "output_type": "stream",
          "name": "stdout",
          "text": [
            "200\n"
          ]
        }
      ]
    },
    {
      "cell_type": "code",
      "source": [
        "total_train_images = os.listdir('/content/drive/MyDrive/visual-pollution-object-detection/preprocessing-dataset/train')\n",
        "print(len(total_train_images))"
      ],
      "metadata": {
        "colab": {
          "base_uri": "https://localhost:8080/"
        },
        "id": "OQXs4y2hG-A1",
        "outputId": "05f4959f-8356-47a0-ce8c-56ed9101ca7d"
      },
      "execution_count": null,
      "outputs": [
        {
          "output_type": "stream",
          "name": "stdout",
          "text": [
            "6300\n"
          ]
        }
      ]
    },
    {
      "cell_type": "code",
      "source": [
        "images_path = '/content/drive/MyDrive/visual-pollution-object-detection/preprocessing-dataset/train'"
      ],
      "metadata": {
        "id": "UijXAq1AHE1V"
      },
      "execution_count": null,
      "outputs": []
    },
    {
      "cell_type": "code",
      "source": [
        "test_dir = '/content/drive/MyDrive/visual-pollution-object-detection/images/test'"
      ],
      "metadata": {
        "id": "zxyHTLN7HKuO"
      },
      "execution_count": null,
      "outputs": []
    },
    {
      "cell_type": "code",
      "source": [
        "for img_id in images_name:\n",
        "  get_image = os.path.join(images_path, img_id)\n",
        "  move_image_to_cat = shutil.copy(get_image, test_dir)"
      ],
      "metadata": {
        "id": "_0dmB06vHTLy"
      },
      "execution_count": null,
      "outputs": []
    },
    {
      "cell_type": "code",
      "source": [
        "total_test_images = os.listdir(test_dir)\n",
        "print(len(total_test_images))"
      ],
      "metadata": {
        "colab": {
          "base_uri": "https://localhost:8080/"
        },
        "id": "qLUNIduHHe2x",
        "outputId": "d11918d3-1a79-460c-a494-3870905a1e67"
      },
      "execution_count": null,
      "outputs": [
        {
          "output_type": "stream",
          "name": "stdout",
          "text": [
            "200\n"
          ]
        }
      ]
    }
  ]
}